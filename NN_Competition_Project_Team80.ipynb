{
  "nbformat": 4,
  "nbformat_minor": 0,
  "metadata": {
    "colab": {
      "provenance": []
    },
    "kernelspec": {
      "name": "python3",
      "display_name": "Python 3"
    },
    "language_info": {
      "name": "python"
    },
    "accelerator": "GPU",
    "gpuClass": "standard"
  },
  "cells": [
    {
      "cell_type": "code",
      "execution_count": null,
      "metadata": {
        "id": "13viHNpJ66rK"
      },
      "outputs": [],
      "source": [
        "import numpy as np\n",
        "import pandas as pd\n",
        "import matplotlib.pyplot as plt\n",
        "import tensorflow as tf\n",
        "import statistics as st\n",
        "import keras\n",
        "import glob\n",
        "from imblearn.under_sampling import RandomUnderSampler\n",
        "from keras.utils import to_categorical\n",
        "from keras.models import Sequential\n",
        "from keras.layers import Conv1D, MaxPooling1D, Flatten, Dense, Activation, Dropout\n",
        "from tensorflow.python.keras import regularizers\n",
        "from keras.optimizers import Adam\n",
        "from sklearn.metrics import classification_report\n",
        "from keras.utils import plot_model\n",
        "from IPython.display import Image\n",
        "from sklearn.metrics import confusion_matrix"
      ]
    },
    {
      "cell_type": "code",
      "source": [
        "from google.colab import drive\n",
        "drive.mount('/content/drive')"
      ],
      "metadata": {
        "colab": {
          "base_uri": "https://localhost:8080/"
        },
        "id": "ZTOzEH1AHAns",
        "outputId": "db1ebb77-082e-489d-af86-68aea7763256"
      },
      "execution_count": null,
      "outputs": [
        {
          "output_type": "stream",
          "name": "stdout",
          "text": [
            "Mounted at /content/drive\n"
          ]
        }
      ]
    },
    {
      "cell_type": "code",
      "source": [
        "# set the path to the directory containing the files\n",
        "path = r'/content/drive/MyDrive/NN_Project/TrainingData' \n",
        "x_files = glob.glob(path + \"/subject_00*_*__x.csv\")\n",
        "x_time_files = glob.glob(path + \"/subject_00*_*__x_time.csv\")\n",
        "y_files = glob.glob(path + \"/subject_00*_*__y.csv\")\n",
        "y_time_files = glob.glob(path + \"/subject_00*_*__y_time.csv\")\n",
        "print(sorted(x_files))\n",
        "print(\"\\n\")\n",
        "print(sorted(x_time_files))\n",
        "print(\"\\n\")\n",
        "print(sorted(y_files))\n",
        "print(\"\\n\")\n",
        "print(sorted(y_time_files))\n"
      ],
      "metadata": {
        "colab": {
          "base_uri": "https://localhost:8080/"
        },
        "id": "myyVyPVjAX2O",
        "outputId": "64b53ebd-6f88-4b67-cf2a-a712b16ba213"
      },
      "execution_count": null,
      "outputs": [
        {
          "output_type": "stream",
          "name": "stdout",
          "text": [
            "['/content/drive/MyDrive/NN_Project/TrainingData/subject_001_01__x.csv', '/content/drive/MyDrive/NN_Project/TrainingData/subject_001_02__x.csv', '/content/drive/MyDrive/NN_Project/TrainingData/subject_001_03__x.csv', '/content/drive/MyDrive/NN_Project/TrainingData/subject_001_04__x.csv', '/content/drive/MyDrive/NN_Project/TrainingData/subject_001_05__x.csv', '/content/drive/MyDrive/NN_Project/TrainingData/subject_001_06__x.csv', '/content/drive/MyDrive/NN_Project/TrainingData/subject_001_07__x.csv', '/content/drive/MyDrive/NN_Project/TrainingData/subject_001_08__x.csv', '/content/drive/MyDrive/NN_Project/TrainingData/subject_002_01__x.csv', '/content/drive/MyDrive/NN_Project/TrainingData/subject_002_02__x.csv', '/content/drive/MyDrive/NN_Project/TrainingData/subject_002_03__x.csv', '/content/drive/MyDrive/NN_Project/TrainingData/subject_002_04__x.csv', '/content/drive/MyDrive/NN_Project/TrainingData/subject_002_05__x.csv', '/content/drive/MyDrive/NN_Project/TrainingData/subject_003_01__x.csv', '/content/drive/MyDrive/NN_Project/TrainingData/subject_003_02__x.csv', '/content/drive/MyDrive/NN_Project/TrainingData/subject_003_03__x.csv', '/content/drive/MyDrive/NN_Project/TrainingData/subject_004_01__x.csv', '/content/drive/MyDrive/NN_Project/TrainingData/subject_004_02__x.csv', '/content/drive/MyDrive/NN_Project/TrainingData/subject_005_01__x.csv', '/content/drive/MyDrive/NN_Project/TrainingData/subject_005_02__x.csv', '/content/drive/MyDrive/NN_Project/TrainingData/subject_005_03__x.csv', '/content/drive/MyDrive/NN_Project/TrainingData/subject_006_01__x.csv', '/content/drive/MyDrive/NN_Project/TrainingData/subject_006_02__x.csv', '/content/drive/MyDrive/NN_Project/TrainingData/subject_006_03__x.csv', '/content/drive/MyDrive/NN_Project/TrainingData/subject_007_01__x.csv', '/content/drive/MyDrive/NN_Project/TrainingData/subject_007_02__x.csv', '/content/drive/MyDrive/NN_Project/TrainingData/subject_007_03__x.csv', '/content/drive/MyDrive/NN_Project/TrainingData/subject_007_04__x.csv', '/content/drive/MyDrive/NN_Project/TrainingData/subject_008_01__x.csv']\n",
            "\n",
            "\n",
            "['/content/drive/MyDrive/NN_Project/TrainingData/subject_001_01__x_time.csv', '/content/drive/MyDrive/NN_Project/TrainingData/subject_001_02__x_time.csv', '/content/drive/MyDrive/NN_Project/TrainingData/subject_001_03__x_time.csv', '/content/drive/MyDrive/NN_Project/TrainingData/subject_001_04__x_time.csv', '/content/drive/MyDrive/NN_Project/TrainingData/subject_001_05__x_time.csv', '/content/drive/MyDrive/NN_Project/TrainingData/subject_001_06__x_time.csv', '/content/drive/MyDrive/NN_Project/TrainingData/subject_001_07__x_time.csv', '/content/drive/MyDrive/NN_Project/TrainingData/subject_001_08__x_time.csv', '/content/drive/MyDrive/NN_Project/TrainingData/subject_002_01__x_time.csv', '/content/drive/MyDrive/NN_Project/TrainingData/subject_002_02__x_time.csv', '/content/drive/MyDrive/NN_Project/TrainingData/subject_002_03__x_time.csv', '/content/drive/MyDrive/NN_Project/TrainingData/subject_002_04__x_time.csv', '/content/drive/MyDrive/NN_Project/TrainingData/subject_002_05__x_time.csv', '/content/drive/MyDrive/NN_Project/TrainingData/subject_003_01__x_time.csv', '/content/drive/MyDrive/NN_Project/TrainingData/subject_003_02__x_time.csv', '/content/drive/MyDrive/NN_Project/TrainingData/subject_003_03__x_time.csv', '/content/drive/MyDrive/NN_Project/TrainingData/subject_004_01__x_time.csv', '/content/drive/MyDrive/NN_Project/TrainingData/subject_004_02__x_time.csv', '/content/drive/MyDrive/NN_Project/TrainingData/subject_005_01__x_time.csv', '/content/drive/MyDrive/NN_Project/TrainingData/subject_005_02__x_time.csv', '/content/drive/MyDrive/NN_Project/TrainingData/subject_005_03__x_time.csv', '/content/drive/MyDrive/NN_Project/TrainingData/subject_006_01__x_time.csv', '/content/drive/MyDrive/NN_Project/TrainingData/subject_006_02__x_time.csv', '/content/drive/MyDrive/NN_Project/TrainingData/subject_006_03__x_time.csv', '/content/drive/MyDrive/NN_Project/TrainingData/subject_007_01__x_time.csv', '/content/drive/MyDrive/NN_Project/TrainingData/subject_007_02__x_time.csv', '/content/drive/MyDrive/NN_Project/TrainingData/subject_007_03__x_time.csv', '/content/drive/MyDrive/NN_Project/TrainingData/subject_007_04__x_time.csv', '/content/drive/MyDrive/NN_Project/TrainingData/subject_008_01__x_time.csv']\n",
            "\n",
            "\n",
            "['/content/drive/MyDrive/NN_Project/TrainingData/subject_001_01__y.csv', '/content/drive/MyDrive/NN_Project/TrainingData/subject_001_02__y.csv', '/content/drive/MyDrive/NN_Project/TrainingData/subject_001_03__y.csv', '/content/drive/MyDrive/NN_Project/TrainingData/subject_001_04__y.csv', '/content/drive/MyDrive/NN_Project/TrainingData/subject_001_05__y.csv', '/content/drive/MyDrive/NN_Project/TrainingData/subject_001_06__y.csv', '/content/drive/MyDrive/NN_Project/TrainingData/subject_001_07__y.csv', '/content/drive/MyDrive/NN_Project/TrainingData/subject_001_08__y.csv', '/content/drive/MyDrive/NN_Project/TrainingData/subject_002_01__y.csv', '/content/drive/MyDrive/NN_Project/TrainingData/subject_002_02__y.csv', '/content/drive/MyDrive/NN_Project/TrainingData/subject_002_03__y.csv', '/content/drive/MyDrive/NN_Project/TrainingData/subject_002_04__y.csv', '/content/drive/MyDrive/NN_Project/TrainingData/subject_002_05__y.csv', '/content/drive/MyDrive/NN_Project/TrainingData/subject_003_01__y.csv', '/content/drive/MyDrive/NN_Project/TrainingData/subject_003_02__y.csv', '/content/drive/MyDrive/NN_Project/TrainingData/subject_003_03__y.csv', '/content/drive/MyDrive/NN_Project/TrainingData/subject_004_01__y.csv', '/content/drive/MyDrive/NN_Project/TrainingData/subject_004_02__y.csv', '/content/drive/MyDrive/NN_Project/TrainingData/subject_005_01__y.csv', '/content/drive/MyDrive/NN_Project/TrainingData/subject_005_02__y.csv', '/content/drive/MyDrive/NN_Project/TrainingData/subject_005_03__y.csv', '/content/drive/MyDrive/NN_Project/TrainingData/subject_006_01__y.csv', '/content/drive/MyDrive/NN_Project/TrainingData/subject_006_02__y.csv', '/content/drive/MyDrive/NN_Project/TrainingData/subject_006_03__y.csv', '/content/drive/MyDrive/NN_Project/TrainingData/subject_007_01__y.csv', '/content/drive/MyDrive/NN_Project/TrainingData/subject_007_02__y.csv', '/content/drive/MyDrive/NN_Project/TrainingData/subject_007_03__y.csv', '/content/drive/MyDrive/NN_Project/TrainingData/subject_007_04__y.csv', '/content/drive/MyDrive/NN_Project/TrainingData/subject_008_01__y.csv']\n",
            "\n",
            "\n",
            "['/content/drive/MyDrive/NN_Project/TrainingData/subject_001_01__y_time.csv', '/content/drive/MyDrive/NN_Project/TrainingData/subject_001_02__y_time.csv', '/content/drive/MyDrive/NN_Project/TrainingData/subject_001_03__y_time.csv', '/content/drive/MyDrive/NN_Project/TrainingData/subject_001_04__y_time.csv', '/content/drive/MyDrive/NN_Project/TrainingData/subject_001_05__y_time.csv', '/content/drive/MyDrive/NN_Project/TrainingData/subject_001_06__y_time.csv', '/content/drive/MyDrive/NN_Project/TrainingData/subject_001_07__y_time.csv', '/content/drive/MyDrive/NN_Project/TrainingData/subject_001_08__y_time.csv', '/content/drive/MyDrive/NN_Project/TrainingData/subject_002_01__y_time.csv', '/content/drive/MyDrive/NN_Project/TrainingData/subject_002_02__y_time.csv', '/content/drive/MyDrive/NN_Project/TrainingData/subject_002_03__y_time.csv', '/content/drive/MyDrive/NN_Project/TrainingData/subject_002_04__y_time.csv', '/content/drive/MyDrive/NN_Project/TrainingData/subject_002_05__y_time.csv', '/content/drive/MyDrive/NN_Project/TrainingData/subject_003_01__y_time.csv', '/content/drive/MyDrive/NN_Project/TrainingData/subject_003_02__y_time.csv', '/content/drive/MyDrive/NN_Project/TrainingData/subject_003_03__y_time.csv', '/content/drive/MyDrive/NN_Project/TrainingData/subject_004_01__y_time.csv', '/content/drive/MyDrive/NN_Project/TrainingData/subject_004_02__y_time.csv', '/content/drive/MyDrive/NN_Project/TrainingData/subject_005_01__y_time.csv', '/content/drive/MyDrive/NN_Project/TrainingData/subject_005_02__y_time.csv', '/content/drive/MyDrive/NN_Project/TrainingData/subject_005_03__y_time.csv', '/content/drive/MyDrive/NN_Project/TrainingData/subject_006_01__y_time.csv', '/content/drive/MyDrive/NN_Project/TrainingData/subject_006_02__y_time.csv', '/content/drive/MyDrive/NN_Project/TrainingData/subject_006_03__y_time.csv', '/content/drive/MyDrive/NN_Project/TrainingData/subject_007_01__y_time.csv', '/content/drive/MyDrive/NN_Project/TrainingData/subject_007_02__y_time.csv', '/content/drive/MyDrive/NN_Project/TrainingData/subject_007_03__y_time.csv', '/content/drive/MyDrive/NN_Project/TrainingData/subject_007_04__y_time.csv', '/content/drive/MyDrive/NN_Project/TrainingData/subject_008_01__y_time.csv']\n"
          ]
        }
      ]
    },
    {
      "cell_type": "code",
      "source": [
        "files=[]\n",
        "subjects=[]\n",
        "for file_name in sorted(x_files):\n",
        "    generated= file_name[:-7]\n",
        "    files.append(generated)\n",
        "print(files)\n",
        "\n",
        "for file_name in files:\n",
        "    file=file_name.split('/')[6]\n",
        "    print(file) \n",
        "    subjects.append(file)"
      ],
      "metadata": {
        "colab": {
          "base_uri": "https://localhost:8080/"
        },
        "id": "OE_mUdKKA6cn",
        "outputId": "ae1dce09-aa19-45c1-c75e-e132607a2221"
      },
      "execution_count": null,
      "outputs": [
        {
          "output_type": "stream",
          "name": "stdout",
          "text": [
            "['/content/drive/MyDrive/NN_Project/TrainingData/subject_001_01', '/content/drive/MyDrive/NN_Project/TrainingData/subject_001_02', '/content/drive/MyDrive/NN_Project/TrainingData/subject_001_03', '/content/drive/MyDrive/NN_Project/TrainingData/subject_001_04', '/content/drive/MyDrive/NN_Project/TrainingData/subject_001_05', '/content/drive/MyDrive/NN_Project/TrainingData/subject_001_06', '/content/drive/MyDrive/NN_Project/TrainingData/subject_001_07', '/content/drive/MyDrive/NN_Project/TrainingData/subject_001_08', '/content/drive/MyDrive/NN_Project/TrainingData/subject_002_01', '/content/drive/MyDrive/NN_Project/TrainingData/subject_002_02', '/content/drive/MyDrive/NN_Project/TrainingData/subject_002_03', '/content/drive/MyDrive/NN_Project/TrainingData/subject_002_04', '/content/drive/MyDrive/NN_Project/TrainingData/subject_002_05', '/content/drive/MyDrive/NN_Project/TrainingData/subject_003_01', '/content/drive/MyDrive/NN_Project/TrainingData/subject_003_02', '/content/drive/MyDrive/NN_Project/TrainingData/subject_003_03', '/content/drive/MyDrive/NN_Project/TrainingData/subject_004_01', '/content/drive/MyDrive/NN_Project/TrainingData/subject_004_02', '/content/drive/MyDrive/NN_Project/TrainingData/subject_005_01', '/content/drive/MyDrive/NN_Project/TrainingData/subject_005_02', '/content/drive/MyDrive/NN_Project/TrainingData/subject_005_03', '/content/drive/MyDrive/NN_Project/TrainingData/subject_006_01', '/content/drive/MyDrive/NN_Project/TrainingData/subject_006_02', '/content/drive/MyDrive/NN_Project/TrainingData/subject_006_03', '/content/drive/MyDrive/NN_Project/TrainingData/subject_007_01', '/content/drive/MyDrive/NN_Project/TrainingData/subject_007_02', '/content/drive/MyDrive/NN_Project/TrainingData/subject_007_03', '/content/drive/MyDrive/NN_Project/TrainingData/subject_007_04', '/content/drive/MyDrive/NN_Project/TrainingData/subject_008_01']\n",
            "subject_001_01\n",
            "subject_001_02\n",
            "subject_001_03\n",
            "subject_001_04\n",
            "subject_001_05\n",
            "subject_001_06\n",
            "subject_001_07\n",
            "subject_001_08\n",
            "subject_002_01\n",
            "subject_002_02\n",
            "subject_002_03\n",
            "subject_002_04\n",
            "subject_002_05\n",
            "subject_003_01\n",
            "subject_003_02\n",
            "subject_003_03\n",
            "subject_004_01\n",
            "subject_004_02\n",
            "subject_005_01\n",
            "subject_005_02\n",
            "subject_005_03\n",
            "subject_006_01\n",
            "subject_006_02\n",
            "subject_006_03\n",
            "subject_007_01\n",
            "subject_007_02\n",
            "subject_007_03\n",
            "subject_007_04\n",
            "subject_008_01\n"
          ]
        }
      ]
    },
    {
      "cell_type": "code",
      "source": [
        "subjects"
      ],
      "metadata": {
        "colab": {
          "base_uri": "https://localhost:8080/"
        },
        "id": "zhWV0eVlBBZs",
        "outputId": "151f6a3c-ab7a-4bd0-8586-9503184029e1"
      },
      "execution_count": null,
      "outputs": [
        {
          "output_type": "execute_result",
          "data": {
            "text/plain": [
              "['subject_001_01',\n",
              " 'subject_001_02',\n",
              " 'subject_001_03',\n",
              " 'subject_001_04',\n",
              " 'subject_001_05',\n",
              " 'subject_001_06',\n",
              " 'subject_001_07',\n",
              " 'subject_001_08',\n",
              " 'subject_002_01',\n",
              " 'subject_002_02',\n",
              " 'subject_002_03',\n",
              " 'subject_002_04',\n",
              " 'subject_002_05',\n",
              " 'subject_003_01',\n",
              " 'subject_003_02',\n",
              " 'subject_003_03',\n",
              " 'subject_004_01',\n",
              " 'subject_004_02',\n",
              " 'subject_005_01',\n",
              " 'subject_005_02',\n",
              " 'subject_005_03',\n",
              " 'subject_006_01',\n",
              " 'subject_006_02',\n",
              " 'subject_006_03',\n",
              " 'subject_007_01',\n",
              " 'subject_007_02',\n",
              " 'subject_007_03',\n",
              " 'subject_007_04',\n",
              " 'subject_008_01']"
            ]
          },
          "metadata": {},
          "execution_count": 5
        }
      ]
    },
    {
      "cell_type": "code",
      "source": [
        "for file_name in files:\n",
        "    subject=file_name.split('/')[6]\n",
        "    df1=pd.read_csv(file_name+'__x.csv',  names =['acc_x', 'acc_y', 'acc_z', 'gyro_x', 'gyro_y', 'gyro_z'])\n",
        "    df1['time']=df2['time']\n",
        "    df1['time']=df1['time'].apply(lambda x:int(x*100)/100)\n",
        "    df1['time']=df1['time'].astype(str)\n",
        "    df2=pd.read_csv(file_name+'__x_time.csv', names =['time'])\n",
        "    df3=pd.read_csv(file_name+'__y.csv', names =['label'])\n",
        "    df3['time']=df4['time']\n",
        "    df3['time']=df3['time'].astype(str)\n",
        "    df4=pd.read_csv(file_name+'__y_time.csv', names =['time'])\n",
        "    #Create a folder \"ProcessedData\" and give its path\n",
        "    #save the processed data to new CSV files for each subject\n",
        "    df1.to_csv('/content/drive/MyDrive/NN_Project/ProcessedData/'+subject+'x_measured_time.csv',index=False)\n",
        "    df3.to_csv('/content/drive/MyDrive/NN_Project/ProcessedData/'+subject+'y_label_time.csv',index=False)"
      ],
      "metadata": {
        "id": "jWF5hPtDMS-u"
      },
      "execution_count": null,
      "outputs": []
    },
    {
      "cell_type": "code",
      "source": [
        "for subject in subjects:\n",
        "    df1 = pd.read_csv('/content/drive/MyDrive/NN_Project/ProcessedData/'+subject+'x_measured_time.csv')\n",
        "    df2 = pd.read_csv('/content/drive/MyDrive/NN_Project/ProcessedData/'+subject+'y_label_time.csv')\n",
        "    df3 = pd.merge(df1, df2, on='time', how='outer')\n",
        "    #Create a folder \"Subjects\" and give its path\n",
        "    df3.to_csv('/content/drive/MyDrive/NN_Project/Subjects/'+subject+'final.csv',index=False)\n",
        "    # Interpolate missing label values and save to interpolated.csv file\n",
        "    df3['label']=df3['label'].interpolate(method='pad')\n",
        "    # Filter out rows where the 'time' column equals 0 and save to interpolated.csv file\n",
        "    df4 = df3.loc[df3['time']!=0]\n",
        "    #Create a folder \"InterpolatedData\" and give its path\n",
        "    df4.to_csv('/content/drive/MyDrive/NN_Project/InterpolatedData/'+subject+'_interpolated.csv',index=False)"
      ],
      "metadata": {
        "id": "qOmZRqalC6K-"
      },
      "execution_count": null,
      "outputs": []
    },
    {
      "cell_type": "code",
      "source": [
        "df3 = pd.read_csv('/content/drive/MyDrive/NN_Project/TrainingData/subject_001_01__x_time.csv')\n",
        "df4 = pd.read_csv('/content/drive/MyDrive/NN_Project/TrainingData/subject_001_01__x.csv')\n",
        "df5 = pd.read_csv('/content/drive/MyDrive/NN_Project/TrainingData/subject_001_01__y_time.csv')\n",
        "df6 = pd.read_csv('/content/drive/MyDrive/NN_Project/TrainingData/subject_001_01__y.csv')\n",
        "df1 = pd.read_csv('/content/drive/MyDrive/NN_Project/ProcessedData/subject_001_01x_measured_time.csv')\n",
        "df2 = pd.read_csv('/content/drive/MyDrive/NN_Project/ProcessedData/subject_001_01y_label_time.csv')\n",
        "df3=pd.read_csv('/content/drive/MyDrive/NN_Project/Subjects/subject_001_01final.csv')\n",
        "df7=pd.read_csv('/content/drive/MyDrive/NN_Project/InterpolatedData/subject_001_01_interpolated.csv')\n",
        "print(df1.shape)\n",
        "print(df2.shape)\n",
        "print(df3.shape)\n",
        "print(df4.shape)\n",
        "print(df5.shape)\n",
        "print(df6.shape)\n",
        "print(df7.shape)"
      ],
      "metadata": {
        "colab": {
          "base_uri": "https://localhost:8080/"
        },
        "id": "DBdd0jx3EJAG",
        "outputId": "ce9b1dcd-9280-4237-be27-7eefc60fb67a"
      },
      "execution_count": null,
      "outputs": [
        {
          "output_type": "stream",
          "name": "stdout",
          "text": [
            "(37890, 7)\n",
            "(9473, 2)\n",
            "(37890, 8)\n",
            "(37889, 6)\n",
            "(9472, 1)\n",
            "(9472, 1)\n",
            "(37889, 8)\n"
          ]
        }
      ]
    },
    {
      "cell_type": "code",
      "source": [
        "df_list=[]\n",
        "path = r'/content/drive/MyDrive/NN_Project/InterpolatedData'\n",
        "all_files = glob.glob(path + \"/*.csv\")\n",
        "for y in sorted(all_files):\n",
        "    print(files)\n",
        "    df = pd.read_csv(y, names =['acc_x','acc_y','acc_z','gyro_x','gyro_y','gyro_z','time','label'])\n",
        "    df_list.append(df)\n",
        "\n",
        "# Concatenate all dataframes in the df_list into one dataframe \n",
        "df1 = pd.concat(df_list, axis=0, ignore_index=True)\n",
        "df2 = df1.loc[df1['acc_x']!='acc_x']\n",
        "print(df1)\n",
        "df2.to_csv('/content/drive/MyDrive/NN_Project/Interpolated_combined.csv',index=False)"
      ],
      "metadata": {
        "colab": {
          "base_uri": "https://localhost:8080/"
        },
        "id": "RvuzpsIGGRYT",
        "outputId": "3033cb2d-0eeb-4a3d-9b20-74caa0c6619f"
      },
      "execution_count": null,
      "outputs": [
        {
          "output_type": "stream",
          "name": "stdout",
          "text": [
            "['/content/drive/MyDrive/NN_Project/TrainingData/subject_001_01', '/content/drive/MyDrive/NN_Project/TrainingData/subject_001_02', '/content/drive/MyDrive/NN_Project/TrainingData/subject_001_03', '/content/drive/MyDrive/NN_Project/TrainingData/subject_001_04', '/content/drive/MyDrive/NN_Project/TrainingData/subject_001_05', '/content/drive/MyDrive/NN_Project/TrainingData/subject_001_06', '/content/drive/MyDrive/NN_Project/TrainingData/subject_001_07', '/content/drive/MyDrive/NN_Project/TrainingData/subject_001_08', '/content/drive/MyDrive/NN_Project/TrainingData/subject_002_01', '/content/drive/MyDrive/NN_Project/TrainingData/subject_002_02', '/content/drive/MyDrive/NN_Project/TrainingData/subject_002_03', '/content/drive/MyDrive/NN_Project/TrainingData/subject_002_04', '/content/drive/MyDrive/NN_Project/TrainingData/subject_002_05', '/content/drive/MyDrive/NN_Project/TrainingData/subject_003_01', '/content/drive/MyDrive/NN_Project/TrainingData/subject_003_02', '/content/drive/MyDrive/NN_Project/TrainingData/subject_003_03', '/content/drive/MyDrive/NN_Project/TrainingData/subject_004_01', '/content/drive/MyDrive/NN_Project/TrainingData/subject_004_02', '/content/drive/MyDrive/NN_Project/TrainingData/subject_005_01', '/content/drive/MyDrive/NN_Project/TrainingData/subject_005_02', '/content/drive/MyDrive/NN_Project/TrainingData/subject_005_03', '/content/drive/MyDrive/NN_Project/TrainingData/subject_006_01', '/content/drive/MyDrive/NN_Project/TrainingData/subject_006_02', '/content/drive/MyDrive/NN_Project/TrainingData/subject_006_03', '/content/drive/MyDrive/NN_Project/TrainingData/subject_007_01', '/content/drive/MyDrive/NN_Project/TrainingData/subject_007_02', '/content/drive/MyDrive/NN_Project/TrainingData/subject_007_03', '/content/drive/MyDrive/NN_Project/TrainingData/subject_007_04', '/content/drive/MyDrive/NN_Project/TrainingData/subject_008_01']\n",
            "['/content/drive/MyDrive/NN_Project/TrainingData/subject_001_01', '/content/drive/MyDrive/NN_Project/TrainingData/subject_001_02', '/content/drive/MyDrive/NN_Project/TrainingData/subject_001_03', '/content/drive/MyDrive/NN_Project/TrainingData/subject_001_04', '/content/drive/MyDrive/NN_Project/TrainingData/subject_001_05', '/content/drive/MyDrive/NN_Project/TrainingData/subject_001_06', '/content/drive/MyDrive/NN_Project/TrainingData/subject_001_07', '/content/drive/MyDrive/NN_Project/TrainingData/subject_001_08', '/content/drive/MyDrive/NN_Project/TrainingData/subject_002_01', '/content/drive/MyDrive/NN_Project/TrainingData/subject_002_02', '/content/drive/MyDrive/NN_Project/TrainingData/subject_002_03', '/content/drive/MyDrive/NN_Project/TrainingData/subject_002_04', '/content/drive/MyDrive/NN_Project/TrainingData/subject_002_05', '/content/drive/MyDrive/NN_Project/TrainingData/subject_003_01', '/content/drive/MyDrive/NN_Project/TrainingData/subject_003_02', '/content/drive/MyDrive/NN_Project/TrainingData/subject_003_03', '/content/drive/MyDrive/NN_Project/TrainingData/subject_004_01', '/content/drive/MyDrive/NN_Project/TrainingData/subject_004_02', '/content/drive/MyDrive/NN_Project/TrainingData/subject_005_01', '/content/drive/MyDrive/NN_Project/TrainingData/subject_005_02', '/content/drive/MyDrive/NN_Project/TrainingData/subject_005_03', '/content/drive/MyDrive/NN_Project/TrainingData/subject_006_01', '/content/drive/MyDrive/NN_Project/TrainingData/subject_006_02', '/content/drive/MyDrive/NN_Project/TrainingData/subject_006_03', '/content/drive/MyDrive/NN_Project/TrainingData/subject_007_01', '/content/drive/MyDrive/NN_Project/TrainingData/subject_007_02', '/content/drive/MyDrive/NN_Project/TrainingData/subject_007_03', '/content/drive/MyDrive/NN_Project/TrainingData/subject_007_04', '/content/drive/MyDrive/NN_Project/TrainingData/subject_008_01']\n"
          ]
        },
        {
          "output_type": "stream",
          "name": "stderr",
          "text": [
            "<ipython-input-13-b62d355ca6b6>:6: DtypeWarning: Columns (0,1,2,3,4,5,6,7) have mixed types. Specify dtype option on import or set low_memory=False.\n",
            "  df = pd.read_csv(y, names =['acc_x','acc_y','acc_z','gyro_x','gyro_y','gyro_z','time','label'])\n"
          ]
        },
        {
          "output_type": "stream",
          "name": "stdout",
          "text": [
            "['/content/drive/MyDrive/NN_Project/TrainingData/subject_001_01', '/content/drive/MyDrive/NN_Project/TrainingData/subject_001_02', '/content/drive/MyDrive/NN_Project/TrainingData/subject_001_03', '/content/drive/MyDrive/NN_Project/TrainingData/subject_001_04', '/content/drive/MyDrive/NN_Project/TrainingData/subject_001_05', '/content/drive/MyDrive/NN_Project/TrainingData/subject_001_06', '/content/drive/MyDrive/NN_Project/TrainingData/subject_001_07', '/content/drive/MyDrive/NN_Project/TrainingData/subject_001_08', '/content/drive/MyDrive/NN_Project/TrainingData/subject_002_01', '/content/drive/MyDrive/NN_Project/TrainingData/subject_002_02', '/content/drive/MyDrive/NN_Project/TrainingData/subject_002_03', '/content/drive/MyDrive/NN_Project/TrainingData/subject_002_04', '/content/drive/MyDrive/NN_Project/TrainingData/subject_002_05', '/content/drive/MyDrive/NN_Project/TrainingData/subject_003_01', '/content/drive/MyDrive/NN_Project/TrainingData/subject_003_02', '/content/drive/MyDrive/NN_Project/TrainingData/subject_003_03', '/content/drive/MyDrive/NN_Project/TrainingData/subject_004_01', '/content/drive/MyDrive/NN_Project/TrainingData/subject_004_02', '/content/drive/MyDrive/NN_Project/TrainingData/subject_005_01', '/content/drive/MyDrive/NN_Project/TrainingData/subject_005_02', '/content/drive/MyDrive/NN_Project/TrainingData/subject_005_03', '/content/drive/MyDrive/NN_Project/TrainingData/subject_006_01', '/content/drive/MyDrive/NN_Project/TrainingData/subject_006_02', '/content/drive/MyDrive/NN_Project/TrainingData/subject_006_03', '/content/drive/MyDrive/NN_Project/TrainingData/subject_007_01', '/content/drive/MyDrive/NN_Project/TrainingData/subject_007_02', '/content/drive/MyDrive/NN_Project/TrainingData/subject_007_03', '/content/drive/MyDrive/NN_Project/TrainingData/subject_007_04', '/content/drive/MyDrive/NN_Project/TrainingData/subject_008_01']\n",
            "['/content/drive/MyDrive/NN_Project/TrainingData/subject_001_01', '/content/drive/MyDrive/NN_Project/TrainingData/subject_001_02', '/content/drive/MyDrive/NN_Project/TrainingData/subject_001_03', '/content/drive/MyDrive/NN_Project/TrainingData/subject_001_04', '/content/drive/MyDrive/NN_Project/TrainingData/subject_001_05', '/content/drive/MyDrive/NN_Project/TrainingData/subject_001_06', '/content/drive/MyDrive/NN_Project/TrainingData/subject_001_07', '/content/drive/MyDrive/NN_Project/TrainingData/subject_001_08', '/content/drive/MyDrive/NN_Project/TrainingData/subject_002_01', '/content/drive/MyDrive/NN_Project/TrainingData/subject_002_02', '/content/drive/MyDrive/NN_Project/TrainingData/subject_002_03', '/content/drive/MyDrive/NN_Project/TrainingData/subject_002_04', '/content/drive/MyDrive/NN_Project/TrainingData/subject_002_05', '/content/drive/MyDrive/NN_Project/TrainingData/subject_003_01', '/content/drive/MyDrive/NN_Project/TrainingData/subject_003_02', '/content/drive/MyDrive/NN_Project/TrainingData/subject_003_03', '/content/drive/MyDrive/NN_Project/TrainingData/subject_004_01', '/content/drive/MyDrive/NN_Project/TrainingData/subject_004_02', '/content/drive/MyDrive/NN_Project/TrainingData/subject_005_01', '/content/drive/MyDrive/NN_Project/TrainingData/subject_005_02', '/content/drive/MyDrive/NN_Project/TrainingData/subject_005_03', '/content/drive/MyDrive/NN_Project/TrainingData/subject_006_01', '/content/drive/MyDrive/NN_Project/TrainingData/subject_006_02', '/content/drive/MyDrive/NN_Project/TrainingData/subject_006_03', '/content/drive/MyDrive/NN_Project/TrainingData/subject_007_01', '/content/drive/MyDrive/NN_Project/TrainingData/subject_007_02', '/content/drive/MyDrive/NN_Project/TrainingData/subject_007_03', '/content/drive/MyDrive/NN_Project/TrainingData/subject_007_04', '/content/drive/MyDrive/NN_Project/TrainingData/subject_008_01']\n",
            "['/content/drive/MyDrive/NN_Project/TrainingData/subject_001_01', '/content/drive/MyDrive/NN_Project/TrainingData/subject_001_02', '/content/drive/MyDrive/NN_Project/TrainingData/subject_001_03', '/content/drive/MyDrive/NN_Project/TrainingData/subject_001_04', '/content/drive/MyDrive/NN_Project/TrainingData/subject_001_05', '/content/drive/MyDrive/NN_Project/TrainingData/subject_001_06', '/content/drive/MyDrive/NN_Project/TrainingData/subject_001_07', '/content/drive/MyDrive/NN_Project/TrainingData/subject_001_08', '/content/drive/MyDrive/NN_Project/TrainingData/subject_002_01', '/content/drive/MyDrive/NN_Project/TrainingData/subject_002_02', '/content/drive/MyDrive/NN_Project/TrainingData/subject_002_03', '/content/drive/MyDrive/NN_Project/TrainingData/subject_002_04', '/content/drive/MyDrive/NN_Project/TrainingData/subject_002_05', '/content/drive/MyDrive/NN_Project/TrainingData/subject_003_01', '/content/drive/MyDrive/NN_Project/TrainingData/subject_003_02', '/content/drive/MyDrive/NN_Project/TrainingData/subject_003_03', '/content/drive/MyDrive/NN_Project/TrainingData/subject_004_01', '/content/drive/MyDrive/NN_Project/TrainingData/subject_004_02', '/content/drive/MyDrive/NN_Project/TrainingData/subject_005_01', '/content/drive/MyDrive/NN_Project/TrainingData/subject_005_02', '/content/drive/MyDrive/NN_Project/TrainingData/subject_005_03', '/content/drive/MyDrive/NN_Project/TrainingData/subject_006_01', '/content/drive/MyDrive/NN_Project/TrainingData/subject_006_02', '/content/drive/MyDrive/NN_Project/TrainingData/subject_006_03', '/content/drive/MyDrive/NN_Project/TrainingData/subject_007_01', '/content/drive/MyDrive/NN_Project/TrainingData/subject_007_02', '/content/drive/MyDrive/NN_Project/TrainingData/subject_007_03', '/content/drive/MyDrive/NN_Project/TrainingData/subject_007_04', '/content/drive/MyDrive/NN_Project/TrainingData/subject_008_01']\n",
            "['/content/drive/MyDrive/NN_Project/TrainingData/subject_001_01', '/content/drive/MyDrive/NN_Project/TrainingData/subject_001_02', '/content/drive/MyDrive/NN_Project/TrainingData/subject_001_03', '/content/drive/MyDrive/NN_Project/TrainingData/subject_001_04', '/content/drive/MyDrive/NN_Project/TrainingData/subject_001_05', '/content/drive/MyDrive/NN_Project/TrainingData/subject_001_06', '/content/drive/MyDrive/NN_Project/TrainingData/subject_001_07', '/content/drive/MyDrive/NN_Project/TrainingData/subject_001_08', '/content/drive/MyDrive/NN_Project/TrainingData/subject_002_01', '/content/drive/MyDrive/NN_Project/TrainingData/subject_002_02', '/content/drive/MyDrive/NN_Project/TrainingData/subject_002_03', '/content/drive/MyDrive/NN_Project/TrainingData/subject_002_04', '/content/drive/MyDrive/NN_Project/TrainingData/subject_002_05', '/content/drive/MyDrive/NN_Project/TrainingData/subject_003_01', '/content/drive/MyDrive/NN_Project/TrainingData/subject_003_02', '/content/drive/MyDrive/NN_Project/TrainingData/subject_003_03', '/content/drive/MyDrive/NN_Project/TrainingData/subject_004_01', '/content/drive/MyDrive/NN_Project/TrainingData/subject_004_02', '/content/drive/MyDrive/NN_Project/TrainingData/subject_005_01', '/content/drive/MyDrive/NN_Project/TrainingData/subject_005_02', '/content/drive/MyDrive/NN_Project/TrainingData/subject_005_03', '/content/drive/MyDrive/NN_Project/TrainingData/subject_006_01', '/content/drive/MyDrive/NN_Project/TrainingData/subject_006_02', '/content/drive/MyDrive/NN_Project/TrainingData/subject_006_03', '/content/drive/MyDrive/NN_Project/TrainingData/subject_007_01', '/content/drive/MyDrive/NN_Project/TrainingData/subject_007_02', '/content/drive/MyDrive/NN_Project/TrainingData/subject_007_03', '/content/drive/MyDrive/NN_Project/TrainingData/subject_007_04', '/content/drive/MyDrive/NN_Project/TrainingData/subject_008_01']\n",
            "['/content/drive/MyDrive/NN_Project/TrainingData/subject_001_01', '/content/drive/MyDrive/NN_Project/TrainingData/subject_001_02', '/content/drive/MyDrive/NN_Project/TrainingData/subject_001_03', '/content/drive/MyDrive/NN_Project/TrainingData/subject_001_04', '/content/drive/MyDrive/NN_Project/TrainingData/subject_001_05', '/content/drive/MyDrive/NN_Project/TrainingData/subject_001_06', '/content/drive/MyDrive/NN_Project/TrainingData/subject_001_07', '/content/drive/MyDrive/NN_Project/TrainingData/subject_001_08', '/content/drive/MyDrive/NN_Project/TrainingData/subject_002_01', '/content/drive/MyDrive/NN_Project/TrainingData/subject_002_02', '/content/drive/MyDrive/NN_Project/TrainingData/subject_002_03', '/content/drive/MyDrive/NN_Project/TrainingData/subject_002_04', '/content/drive/MyDrive/NN_Project/TrainingData/subject_002_05', '/content/drive/MyDrive/NN_Project/TrainingData/subject_003_01', '/content/drive/MyDrive/NN_Project/TrainingData/subject_003_02', '/content/drive/MyDrive/NN_Project/TrainingData/subject_003_03', '/content/drive/MyDrive/NN_Project/TrainingData/subject_004_01', '/content/drive/MyDrive/NN_Project/TrainingData/subject_004_02', '/content/drive/MyDrive/NN_Project/TrainingData/subject_005_01', '/content/drive/MyDrive/NN_Project/TrainingData/subject_005_02', '/content/drive/MyDrive/NN_Project/TrainingData/subject_005_03', '/content/drive/MyDrive/NN_Project/TrainingData/subject_006_01', '/content/drive/MyDrive/NN_Project/TrainingData/subject_006_02', '/content/drive/MyDrive/NN_Project/TrainingData/subject_006_03', '/content/drive/MyDrive/NN_Project/TrainingData/subject_007_01', '/content/drive/MyDrive/NN_Project/TrainingData/subject_007_02', '/content/drive/MyDrive/NN_Project/TrainingData/subject_007_03', '/content/drive/MyDrive/NN_Project/TrainingData/subject_007_04', '/content/drive/MyDrive/NN_Project/TrainingData/subject_008_01']\n",
            "['/content/drive/MyDrive/NN_Project/TrainingData/subject_001_01', '/content/drive/MyDrive/NN_Project/TrainingData/subject_001_02', '/content/drive/MyDrive/NN_Project/TrainingData/subject_001_03', '/content/drive/MyDrive/NN_Project/TrainingData/subject_001_04', '/content/drive/MyDrive/NN_Project/TrainingData/subject_001_05', '/content/drive/MyDrive/NN_Project/TrainingData/subject_001_06', '/content/drive/MyDrive/NN_Project/TrainingData/subject_001_07', '/content/drive/MyDrive/NN_Project/TrainingData/subject_001_08', '/content/drive/MyDrive/NN_Project/TrainingData/subject_002_01', '/content/drive/MyDrive/NN_Project/TrainingData/subject_002_02', '/content/drive/MyDrive/NN_Project/TrainingData/subject_002_03', '/content/drive/MyDrive/NN_Project/TrainingData/subject_002_04', '/content/drive/MyDrive/NN_Project/TrainingData/subject_002_05', '/content/drive/MyDrive/NN_Project/TrainingData/subject_003_01', '/content/drive/MyDrive/NN_Project/TrainingData/subject_003_02', '/content/drive/MyDrive/NN_Project/TrainingData/subject_003_03', '/content/drive/MyDrive/NN_Project/TrainingData/subject_004_01', '/content/drive/MyDrive/NN_Project/TrainingData/subject_004_02', '/content/drive/MyDrive/NN_Project/TrainingData/subject_005_01', '/content/drive/MyDrive/NN_Project/TrainingData/subject_005_02', '/content/drive/MyDrive/NN_Project/TrainingData/subject_005_03', '/content/drive/MyDrive/NN_Project/TrainingData/subject_006_01', '/content/drive/MyDrive/NN_Project/TrainingData/subject_006_02', '/content/drive/MyDrive/NN_Project/TrainingData/subject_006_03', '/content/drive/MyDrive/NN_Project/TrainingData/subject_007_01', '/content/drive/MyDrive/NN_Project/TrainingData/subject_007_02', '/content/drive/MyDrive/NN_Project/TrainingData/subject_007_03', '/content/drive/MyDrive/NN_Project/TrainingData/subject_007_04', '/content/drive/MyDrive/NN_Project/TrainingData/subject_008_01']\n"
          ]
        },
        {
          "output_type": "stream",
          "name": "stderr",
          "text": [
            "<ipython-input-13-b62d355ca6b6>:6: DtypeWarning: Columns (0,1,2,3,4,5,6,7) have mixed types. Specify dtype option on import or set low_memory=False.\n",
            "  df = pd.read_csv(y, names =['acc_x','acc_y','acc_z','gyro_x','gyro_y','gyro_z','time','label'])\n"
          ]
        },
        {
          "output_type": "stream",
          "name": "stdout",
          "text": [
            "['/content/drive/MyDrive/NN_Project/TrainingData/subject_001_01', '/content/drive/MyDrive/NN_Project/TrainingData/subject_001_02', '/content/drive/MyDrive/NN_Project/TrainingData/subject_001_03', '/content/drive/MyDrive/NN_Project/TrainingData/subject_001_04', '/content/drive/MyDrive/NN_Project/TrainingData/subject_001_05', '/content/drive/MyDrive/NN_Project/TrainingData/subject_001_06', '/content/drive/MyDrive/NN_Project/TrainingData/subject_001_07', '/content/drive/MyDrive/NN_Project/TrainingData/subject_001_08', '/content/drive/MyDrive/NN_Project/TrainingData/subject_002_01', '/content/drive/MyDrive/NN_Project/TrainingData/subject_002_02', '/content/drive/MyDrive/NN_Project/TrainingData/subject_002_03', '/content/drive/MyDrive/NN_Project/TrainingData/subject_002_04', '/content/drive/MyDrive/NN_Project/TrainingData/subject_002_05', '/content/drive/MyDrive/NN_Project/TrainingData/subject_003_01', '/content/drive/MyDrive/NN_Project/TrainingData/subject_003_02', '/content/drive/MyDrive/NN_Project/TrainingData/subject_003_03', '/content/drive/MyDrive/NN_Project/TrainingData/subject_004_01', '/content/drive/MyDrive/NN_Project/TrainingData/subject_004_02', '/content/drive/MyDrive/NN_Project/TrainingData/subject_005_01', '/content/drive/MyDrive/NN_Project/TrainingData/subject_005_02', '/content/drive/MyDrive/NN_Project/TrainingData/subject_005_03', '/content/drive/MyDrive/NN_Project/TrainingData/subject_006_01', '/content/drive/MyDrive/NN_Project/TrainingData/subject_006_02', '/content/drive/MyDrive/NN_Project/TrainingData/subject_006_03', '/content/drive/MyDrive/NN_Project/TrainingData/subject_007_01', '/content/drive/MyDrive/NN_Project/TrainingData/subject_007_02', '/content/drive/MyDrive/NN_Project/TrainingData/subject_007_03', '/content/drive/MyDrive/NN_Project/TrainingData/subject_007_04', '/content/drive/MyDrive/NN_Project/TrainingData/subject_008_01']\n",
            "['/content/drive/MyDrive/NN_Project/TrainingData/subject_001_01', '/content/drive/MyDrive/NN_Project/TrainingData/subject_001_02', '/content/drive/MyDrive/NN_Project/TrainingData/subject_001_03', '/content/drive/MyDrive/NN_Project/TrainingData/subject_001_04', '/content/drive/MyDrive/NN_Project/TrainingData/subject_001_05', '/content/drive/MyDrive/NN_Project/TrainingData/subject_001_06', '/content/drive/MyDrive/NN_Project/TrainingData/subject_001_07', '/content/drive/MyDrive/NN_Project/TrainingData/subject_001_08', '/content/drive/MyDrive/NN_Project/TrainingData/subject_002_01', '/content/drive/MyDrive/NN_Project/TrainingData/subject_002_02', '/content/drive/MyDrive/NN_Project/TrainingData/subject_002_03', '/content/drive/MyDrive/NN_Project/TrainingData/subject_002_04', '/content/drive/MyDrive/NN_Project/TrainingData/subject_002_05', '/content/drive/MyDrive/NN_Project/TrainingData/subject_003_01', '/content/drive/MyDrive/NN_Project/TrainingData/subject_003_02', '/content/drive/MyDrive/NN_Project/TrainingData/subject_003_03', '/content/drive/MyDrive/NN_Project/TrainingData/subject_004_01', '/content/drive/MyDrive/NN_Project/TrainingData/subject_004_02', '/content/drive/MyDrive/NN_Project/TrainingData/subject_005_01', '/content/drive/MyDrive/NN_Project/TrainingData/subject_005_02', '/content/drive/MyDrive/NN_Project/TrainingData/subject_005_03', '/content/drive/MyDrive/NN_Project/TrainingData/subject_006_01', '/content/drive/MyDrive/NN_Project/TrainingData/subject_006_02', '/content/drive/MyDrive/NN_Project/TrainingData/subject_006_03', '/content/drive/MyDrive/NN_Project/TrainingData/subject_007_01', '/content/drive/MyDrive/NN_Project/TrainingData/subject_007_02', '/content/drive/MyDrive/NN_Project/TrainingData/subject_007_03', '/content/drive/MyDrive/NN_Project/TrainingData/subject_007_04', '/content/drive/MyDrive/NN_Project/TrainingData/subject_008_01']\n",
            "['/content/drive/MyDrive/NN_Project/TrainingData/subject_001_01', '/content/drive/MyDrive/NN_Project/TrainingData/subject_001_02', '/content/drive/MyDrive/NN_Project/TrainingData/subject_001_03', '/content/drive/MyDrive/NN_Project/TrainingData/subject_001_04', '/content/drive/MyDrive/NN_Project/TrainingData/subject_001_05', '/content/drive/MyDrive/NN_Project/TrainingData/subject_001_06', '/content/drive/MyDrive/NN_Project/TrainingData/subject_001_07', '/content/drive/MyDrive/NN_Project/TrainingData/subject_001_08', '/content/drive/MyDrive/NN_Project/TrainingData/subject_002_01', '/content/drive/MyDrive/NN_Project/TrainingData/subject_002_02', '/content/drive/MyDrive/NN_Project/TrainingData/subject_002_03', '/content/drive/MyDrive/NN_Project/TrainingData/subject_002_04', '/content/drive/MyDrive/NN_Project/TrainingData/subject_002_05', '/content/drive/MyDrive/NN_Project/TrainingData/subject_003_01', '/content/drive/MyDrive/NN_Project/TrainingData/subject_003_02', '/content/drive/MyDrive/NN_Project/TrainingData/subject_003_03', '/content/drive/MyDrive/NN_Project/TrainingData/subject_004_01', '/content/drive/MyDrive/NN_Project/TrainingData/subject_004_02', '/content/drive/MyDrive/NN_Project/TrainingData/subject_005_01', '/content/drive/MyDrive/NN_Project/TrainingData/subject_005_02', '/content/drive/MyDrive/NN_Project/TrainingData/subject_005_03', '/content/drive/MyDrive/NN_Project/TrainingData/subject_006_01', '/content/drive/MyDrive/NN_Project/TrainingData/subject_006_02', '/content/drive/MyDrive/NN_Project/TrainingData/subject_006_03', '/content/drive/MyDrive/NN_Project/TrainingData/subject_007_01', '/content/drive/MyDrive/NN_Project/TrainingData/subject_007_02', '/content/drive/MyDrive/NN_Project/TrainingData/subject_007_03', '/content/drive/MyDrive/NN_Project/TrainingData/subject_007_04', '/content/drive/MyDrive/NN_Project/TrainingData/subject_008_01']\n",
            "['/content/drive/MyDrive/NN_Project/TrainingData/subject_001_01', '/content/drive/MyDrive/NN_Project/TrainingData/subject_001_02', '/content/drive/MyDrive/NN_Project/TrainingData/subject_001_03', '/content/drive/MyDrive/NN_Project/TrainingData/subject_001_04', '/content/drive/MyDrive/NN_Project/TrainingData/subject_001_05', '/content/drive/MyDrive/NN_Project/TrainingData/subject_001_06', '/content/drive/MyDrive/NN_Project/TrainingData/subject_001_07', '/content/drive/MyDrive/NN_Project/TrainingData/subject_001_08', '/content/drive/MyDrive/NN_Project/TrainingData/subject_002_01', '/content/drive/MyDrive/NN_Project/TrainingData/subject_002_02', '/content/drive/MyDrive/NN_Project/TrainingData/subject_002_03', '/content/drive/MyDrive/NN_Project/TrainingData/subject_002_04', '/content/drive/MyDrive/NN_Project/TrainingData/subject_002_05', '/content/drive/MyDrive/NN_Project/TrainingData/subject_003_01', '/content/drive/MyDrive/NN_Project/TrainingData/subject_003_02', '/content/drive/MyDrive/NN_Project/TrainingData/subject_003_03', '/content/drive/MyDrive/NN_Project/TrainingData/subject_004_01', '/content/drive/MyDrive/NN_Project/TrainingData/subject_004_02', '/content/drive/MyDrive/NN_Project/TrainingData/subject_005_01', '/content/drive/MyDrive/NN_Project/TrainingData/subject_005_02', '/content/drive/MyDrive/NN_Project/TrainingData/subject_005_03', '/content/drive/MyDrive/NN_Project/TrainingData/subject_006_01', '/content/drive/MyDrive/NN_Project/TrainingData/subject_006_02', '/content/drive/MyDrive/NN_Project/TrainingData/subject_006_03', '/content/drive/MyDrive/NN_Project/TrainingData/subject_007_01', '/content/drive/MyDrive/NN_Project/TrainingData/subject_007_02', '/content/drive/MyDrive/NN_Project/TrainingData/subject_007_03', '/content/drive/MyDrive/NN_Project/TrainingData/subject_007_04', '/content/drive/MyDrive/NN_Project/TrainingData/subject_008_01']\n",
            "['/content/drive/MyDrive/NN_Project/TrainingData/subject_001_01', '/content/drive/MyDrive/NN_Project/TrainingData/subject_001_02', '/content/drive/MyDrive/NN_Project/TrainingData/subject_001_03', '/content/drive/MyDrive/NN_Project/TrainingData/subject_001_04', '/content/drive/MyDrive/NN_Project/TrainingData/subject_001_05', '/content/drive/MyDrive/NN_Project/TrainingData/subject_001_06', '/content/drive/MyDrive/NN_Project/TrainingData/subject_001_07', '/content/drive/MyDrive/NN_Project/TrainingData/subject_001_08', '/content/drive/MyDrive/NN_Project/TrainingData/subject_002_01', '/content/drive/MyDrive/NN_Project/TrainingData/subject_002_02', '/content/drive/MyDrive/NN_Project/TrainingData/subject_002_03', '/content/drive/MyDrive/NN_Project/TrainingData/subject_002_04', '/content/drive/MyDrive/NN_Project/TrainingData/subject_002_05', '/content/drive/MyDrive/NN_Project/TrainingData/subject_003_01', '/content/drive/MyDrive/NN_Project/TrainingData/subject_003_02', '/content/drive/MyDrive/NN_Project/TrainingData/subject_003_03', '/content/drive/MyDrive/NN_Project/TrainingData/subject_004_01', '/content/drive/MyDrive/NN_Project/TrainingData/subject_004_02', '/content/drive/MyDrive/NN_Project/TrainingData/subject_005_01', '/content/drive/MyDrive/NN_Project/TrainingData/subject_005_02', '/content/drive/MyDrive/NN_Project/TrainingData/subject_005_03', '/content/drive/MyDrive/NN_Project/TrainingData/subject_006_01', '/content/drive/MyDrive/NN_Project/TrainingData/subject_006_02', '/content/drive/MyDrive/NN_Project/TrainingData/subject_006_03', '/content/drive/MyDrive/NN_Project/TrainingData/subject_007_01', '/content/drive/MyDrive/NN_Project/TrainingData/subject_007_02', '/content/drive/MyDrive/NN_Project/TrainingData/subject_007_03', '/content/drive/MyDrive/NN_Project/TrainingData/subject_007_04', '/content/drive/MyDrive/NN_Project/TrainingData/subject_008_01']\n",
            "['/content/drive/MyDrive/NN_Project/TrainingData/subject_001_01', '/content/drive/MyDrive/NN_Project/TrainingData/subject_001_02', '/content/drive/MyDrive/NN_Project/TrainingData/subject_001_03', '/content/drive/MyDrive/NN_Project/TrainingData/subject_001_04', '/content/drive/MyDrive/NN_Project/TrainingData/subject_001_05', '/content/drive/MyDrive/NN_Project/TrainingData/subject_001_06', '/content/drive/MyDrive/NN_Project/TrainingData/subject_001_07', '/content/drive/MyDrive/NN_Project/TrainingData/subject_001_08', '/content/drive/MyDrive/NN_Project/TrainingData/subject_002_01', '/content/drive/MyDrive/NN_Project/TrainingData/subject_002_02', '/content/drive/MyDrive/NN_Project/TrainingData/subject_002_03', '/content/drive/MyDrive/NN_Project/TrainingData/subject_002_04', '/content/drive/MyDrive/NN_Project/TrainingData/subject_002_05', '/content/drive/MyDrive/NN_Project/TrainingData/subject_003_01', '/content/drive/MyDrive/NN_Project/TrainingData/subject_003_02', '/content/drive/MyDrive/NN_Project/TrainingData/subject_003_03', '/content/drive/MyDrive/NN_Project/TrainingData/subject_004_01', '/content/drive/MyDrive/NN_Project/TrainingData/subject_004_02', '/content/drive/MyDrive/NN_Project/TrainingData/subject_005_01', '/content/drive/MyDrive/NN_Project/TrainingData/subject_005_02', '/content/drive/MyDrive/NN_Project/TrainingData/subject_005_03', '/content/drive/MyDrive/NN_Project/TrainingData/subject_006_01', '/content/drive/MyDrive/NN_Project/TrainingData/subject_006_02', '/content/drive/MyDrive/NN_Project/TrainingData/subject_006_03', '/content/drive/MyDrive/NN_Project/TrainingData/subject_007_01', '/content/drive/MyDrive/NN_Project/TrainingData/subject_007_02', '/content/drive/MyDrive/NN_Project/TrainingData/subject_007_03', '/content/drive/MyDrive/NN_Project/TrainingData/subject_007_04', '/content/drive/MyDrive/NN_Project/TrainingData/subject_008_01']\n",
            "['/content/drive/MyDrive/NN_Project/TrainingData/subject_001_01', '/content/drive/MyDrive/NN_Project/TrainingData/subject_001_02', '/content/drive/MyDrive/NN_Project/TrainingData/subject_001_03', '/content/drive/MyDrive/NN_Project/TrainingData/subject_001_04', '/content/drive/MyDrive/NN_Project/TrainingData/subject_001_05', '/content/drive/MyDrive/NN_Project/TrainingData/subject_001_06', '/content/drive/MyDrive/NN_Project/TrainingData/subject_001_07', '/content/drive/MyDrive/NN_Project/TrainingData/subject_001_08', '/content/drive/MyDrive/NN_Project/TrainingData/subject_002_01', '/content/drive/MyDrive/NN_Project/TrainingData/subject_002_02', '/content/drive/MyDrive/NN_Project/TrainingData/subject_002_03', '/content/drive/MyDrive/NN_Project/TrainingData/subject_002_04', '/content/drive/MyDrive/NN_Project/TrainingData/subject_002_05', '/content/drive/MyDrive/NN_Project/TrainingData/subject_003_01', '/content/drive/MyDrive/NN_Project/TrainingData/subject_003_02', '/content/drive/MyDrive/NN_Project/TrainingData/subject_003_03', '/content/drive/MyDrive/NN_Project/TrainingData/subject_004_01', '/content/drive/MyDrive/NN_Project/TrainingData/subject_004_02', '/content/drive/MyDrive/NN_Project/TrainingData/subject_005_01', '/content/drive/MyDrive/NN_Project/TrainingData/subject_005_02', '/content/drive/MyDrive/NN_Project/TrainingData/subject_005_03', '/content/drive/MyDrive/NN_Project/TrainingData/subject_006_01', '/content/drive/MyDrive/NN_Project/TrainingData/subject_006_02', '/content/drive/MyDrive/NN_Project/TrainingData/subject_006_03', '/content/drive/MyDrive/NN_Project/TrainingData/subject_007_01', '/content/drive/MyDrive/NN_Project/TrainingData/subject_007_02', '/content/drive/MyDrive/NN_Project/TrainingData/subject_007_03', '/content/drive/MyDrive/NN_Project/TrainingData/subject_007_04', '/content/drive/MyDrive/NN_Project/TrainingData/subject_008_01']\n",
            "['/content/drive/MyDrive/NN_Project/TrainingData/subject_001_01', '/content/drive/MyDrive/NN_Project/TrainingData/subject_001_02', '/content/drive/MyDrive/NN_Project/TrainingData/subject_001_03', '/content/drive/MyDrive/NN_Project/TrainingData/subject_001_04', '/content/drive/MyDrive/NN_Project/TrainingData/subject_001_05', '/content/drive/MyDrive/NN_Project/TrainingData/subject_001_06', '/content/drive/MyDrive/NN_Project/TrainingData/subject_001_07', '/content/drive/MyDrive/NN_Project/TrainingData/subject_001_08', '/content/drive/MyDrive/NN_Project/TrainingData/subject_002_01', '/content/drive/MyDrive/NN_Project/TrainingData/subject_002_02', '/content/drive/MyDrive/NN_Project/TrainingData/subject_002_03', '/content/drive/MyDrive/NN_Project/TrainingData/subject_002_04', '/content/drive/MyDrive/NN_Project/TrainingData/subject_002_05', '/content/drive/MyDrive/NN_Project/TrainingData/subject_003_01', '/content/drive/MyDrive/NN_Project/TrainingData/subject_003_02', '/content/drive/MyDrive/NN_Project/TrainingData/subject_003_03', '/content/drive/MyDrive/NN_Project/TrainingData/subject_004_01', '/content/drive/MyDrive/NN_Project/TrainingData/subject_004_02', '/content/drive/MyDrive/NN_Project/TrainingData/subject_005_01', '/content/drive/MyDrive/NN_Project/TrainingData/subject_005_02', '/content/drive/MyDrive/NN_Project/TrainingData/subject_005_03', '/content/drive/MyDrive/NN_Project/TrainingData/subject_006_01', '/content/drive/MyDrive/NN_Project/TrainingData/subject_006_02', '/content/drive/MyDrive/NN_Project/TrainingData/subject_006_03', '/content/drive/MyDrive/NN_Project/TrainingData/subject_007_01', '/content/drive/MyDrive/NN_Project/TrainingData/subject_007_02', '/content/drive/MyDrive/NN_Project/TrainingData/subject_007_03', '/content/drive/MyDrive/NN_Project/TrainingData/subject_007_04', '/content/drive/MyDrive/NN_Project/TrainingData/subject_008_01']\n",
            "['/content/drive/MyDrive/NN_Project/TrainingData/subject_001_01', '/content/drive/MyDrive/NN_Project/TrainingData/subject_001_02', '/content/drive/MyDrive/NN_Project/TrainingData/subject_001_03', '/content/drive/MyDrive/NN_Project/TrainingData/subject_001_04', '/content/drive/MyDrive/NN_Project/TrainingData/subject_001_05', '/content/drive/MyDrive/NN_Project/TrainingData/subject_001_06', '/content/drive/MyDrive/NN_Project/TrainingData/subject_001_07', '/content/drive/MyDrive/NN_Project/TrainingData/subject_001_08', '/content/drive/MyDrive/NN_Project/TrainingData/subject_002_01', '/content/drive/MyDrive/NN_Project/TrainingData/subject_002_02', '/content/drive/MyDrive/NN_Project/TrainingData/subject_002_03', '/content/drive/MyDrive/NN_Project/TrainingData/subject_002_04', '/content/drive/MyDrive/NN_Project/TrainingData/subject_002_05', '/content/drive/MyDrive/NN_Project/TrainingData/subject_003_01', '/content/drive/MyDrive/NN_Project/TrainingData/subject_003_02', '/content/drive/MyDrive/NN_Project/TrainingData/subject_003_03', '/content/drive/MyDrive/NN_Project/TrainingData/subject_004_01', '/content/drive/MyDrive/NN_Project/TrainingData/subject_004_02', '/content/drive/MyDrive/NN_Project/TrainingData/subject_005_01', '/content/drive/MyDrive/NN_Project/TrainingData/subject_005_02', '/content/drive/MyDrive/NN_Project/TrainingData/subject_005_03', '/content/drive/MyDrive/NN_Project/TrainingData/subject_006_01', '/content/drive/MyDrive/NN_Project/TrainingData/subject_006_02', '/content/drive/MyDrive/NN_Project/TrainingData/subject_006_03', '/content/drive/MyDrive/NN_Project/TrainingData/subject_007_01', '/content/drive/MyDrive/NN_Project/TrainingData/subject_007_02', '/content/drive/MyDrive/NN_Project/TrainingData/subject_007_03', '/content/drive/MyDrive/NN_Project/TrainingData/subject_007_04', '/content/drive/MyDrive/NN_Project/TrainingData/subject_008_01']\n",
            "['/content/drive/MyDrive/NN_Project/TrainingData/subject_001_01', '/content/drive/MyDrive/NN_Project/TrainingData/subject_001_02', '/content/drive/MyDrive/NN_Project/TrainingData/subject_001_03', '/content/drive/MyDrive/NN_Project/TrainingData/subject_001_04', '/content/drive/MyDrive/NN_Project/TrainingData/subject_001_05', '/content/drive/MyDrive/NN_Project/TrainingData/subject_001_06', '/content/drive/MyDrive/NN_Project/TrainingData/subject_001_07', '/content/drive/MyDrive/NN_Project/TrainingData/subject_001_08', '/content/drive/MyDrive/NN_Project/TrainingData/subject_002_01', '/content/drive/MyDrive/NN_Project/TrainingData/subject_002_02', '/content/drive/MyDrive/NN_Project/TrainingData/subject_002_03', '/content/drive/MyDrive/NN_Project/TrainingData/subject_002_04', '/content/drive/MyDrive/NN_Project/TrainingData/subject_002_05', '/content/drive/MyDrive/NN_Project/TrainingData/subject_003_01', '/content/drive/MyDrive/NN_Project/TrainingData/subject_003_02', '/content/drive/MyDrive/NN_Project/TrainingData/subject_003_03', '/content/drive/MyDrive/NN_Project/TrainingData/subject_004_01', '/content/drive/MyDrive/NN_Project/TrainingData/subject_004_02', '/content/drive/MyDrive/NN_Project/TrainingData/subject_005_01', '/content/drive/MyDrive/NN_Project/TrainingData/subject_005_02', '/content/drive/MyDrive/NN_Project/TrainingData/subject_005_03', '/content/drive/MyDrive/NN_Project/TrainingData/subject_006_01', '/content/drive/MyDrive/NN_Project/TrainingData/subject_006_02', '/content/drive/MyDrive/NN_Project/TrainingData/subject_006_03', '/content/drive/MyDrive/NN_Project/TrainingData/subject_007_01', '/content/drive/MyDrive/NN_Project/TrainingData/subject_007_02', '/content/drive/MyDrive/NN_Project/TrainingData/subject_007_03', '/content/drive/MyDrive/NN_Project/TrainingData/subject_007_04', '/content/drive/MyDrive/NN_Project/TrainingData/subject_008_01']\n",
            "['/content/drive/MyDrive/NN_Project/TrainingData/subject_001_01', '/content/drive/MyDrive/NN_Project/TrainingData/subject_001_02', '/content/drive/MyDrive/NN_Project/TrainingData/subject_001_03', '/content/drive/MyDrive/NN_Project/TrainingData/subject_001_04', '/content/drive/MyDrive/NN_Project/TrainingData/subject_001_05', '/content/drive/MyDrive/NN_Project/TrainingData/subject_001_06', '/content/drive/MyDrive/NN_Project/TrainingData/subject_001_07', '/content/drive/MyDrive/NN_Project/TrainingData/subject_001_08', '/content/drive/MyDrive/NN_Project/TrainingData/subject_002_01', '/content/drive/MyDrive/NN_Project/TrainingData/subject_002_02', '/content/drive/MyDrive/NN_Project/TrainingData/subject_002_03', '/content/drive/MyDrive/NN_Project/TrainingData/subject_002_04', '/content/drive/MyDrive/NN_Project/TrainingData/subject_002_05', '/content/drive/MyDrive/NN_Project/TrainingData/subject_003_01', '/content/drive/MyDrive/NN_Project/TrainingData/subject_003_02', '/content/drive/MyDrive/NN_Project/TrainingData/subject_003_03', '/content/drive/MyDrive/NN_Project/TrainingData/subject_004_01', '/content/drive/MyDrive/NN_Project/TrainingData/subject_004_02', '/content/drive/MyDrive/NN_Project/TrainingData/subject_005_01', '/content/drive/MyDrive/NN_Project/TrainingData/subject_005_02', '/content/drive/MyDrive/NN_Project/TrainingData/subject_005_03', '/content/drive/MyDrive/NN_Project/TrainingData/subject_006_01', '/content/drive/MyDrive/NN_Project/TrainingData/subject_006_02', '/content/drive/MyDrive/NN_Project/TrainingData/subject_006_03', '/content/drive/MyDrive/NN_Project/TrainingData/subject_007_01', '/content/drive/MyDrive/NN_Project/TrainingData/subject_007_02', '/content/drive/MyDrive/NN_Project/TrainingData/subject_007_03', '/content/drive/MyDrive/NN_Project/TrainingData/subject_007_04', '/content/drive/MyDrive/NN_Project/TrainingData/subject_008_01']\n",
            "['/content/drive/MyDrive/NN_Project/TrainingData/subject_001_01', '/content/drive/MyDrive/NN_Project/TrainingData/subject_001_02', '/content/drive/MyDrive/NN_Project/TrainingData/subject_001_03', '/content/drive/MyDrive/NN_Project/TrainingData/subject_001_04', '/content/drive/MyDrive/NN_Project/TrainingData/subject_001_05', '/content/drive/MyDrive/NN_Project/TrainingData/subject_001_06', '/content/drive/MyDrive/NN_Project/TrainingData/subject_001_07', '/content/drive/MyDrive/NN_Project/TrainingData/subject_001_08', '/content/drive/MyDrive/NN_Project/TrainingData/subject_002_01', '/content/drive/MyDrive/NN_Project/TrainingData/subject_002_02', '/content/drive/MyDrive/NN_Project/TrainingData/subject_002_03', '/content/drive/MyDrive/NN_Project/TrainingData/subject_002_04', '/content/drive/MyDrive/NN_Project/TrainingData/subject_002_05', '/content/drive/MyDrive/NN_Project/TrainingData/subject_003_01', '/content/drive/MyDrive/NN_Project/TrainingData/subject_003_02', '/content/drive/MyDrive/NN_Project/TrainingData/subject_003_03', '/content/drive/MyDrive/NN_Project/TrainingData/subject_004_01', '/content/drive/MyDrive/NN_Project/TrainingData/subject_004_02', '/content/drive/MyDrive/NN_Project/TrainingData/subject_005_01', '/content/drive/MyDrive/NN_Project/TrainingData/subject_005_02', '/content/drive/MyDrive/NN_Project/TrainingData/subject_005_03', '/content/drive/MyDrive/NN_Project/TrainingData/subject_006_01', '/content/drive/MyDrive/NN_Project/TrainingData/subject_006_02', '/content/drive/MyDrive/NN_Project/TrainingData/subject_006_03', '/content/drive/MyDrive/NN_Project/TrainingData/subject_007_01', '/content/drive/MyDrive/NN_Project/TrainingData/subject_007_02', '/content/drive/MyDrive/NN_Project/TrainingData/subject_007_03', '/content/drive/MyDrive/NN_Project/TrainingData/subject_007_04', '/content/drive/MyDrive/NN_Project/TrainingData/subject_008_01']\n",
            "['/content/drive/MyDrive/NN_Project/TrainingData/subject_001_01', '/content/drive/MyDrive/NN_Project/TrainingData/subject_001_02', '/content/drive/MyDrive/NN_Project/TrainingData/subject_001_03', '/content/drive/MyDrive/NN_Project/TrainingData/subject_001_04', '/content/drive/MyDrive/NN_Project/TrainingData/subject_001_05', '/content/drive/MyDrive/NN_Project/TrainingData/subject_001_06', '/content/drive/MyDrive/NN_Project/TrainingData/subject_001_07', '/content/drive/MyDrive/NN_Project/TrainingData/subject_001_08', '/content/drive/MyDrive/NN_Project/TrainingData/subject_002_01', '/content/drive/MyDrive/NN_Project/TrainingData/subject_002_02', '/content/drive/MyDrive/NN_Project/TrainingData/subject_002_03', '/content/drive/MyDrive/NN_Project/TrainingData/subject_002_04', '/content/drive/MyDrive/NN_Project/TrainingData/subject_002_05', '/content/drive/MyDrive/NN_Project/TrainingData/subject_003_01', '/content/drive/MyDrive/NN_Project/TrainingData/subject_003_02', '/content/drive/MyDrive/NN_Project/TrainingData/subject_003_03', '/content/drive/MyDrive/NN_Project/TrainingData/subject_004_01', '/content/drive/MyDrive/NN_Project/TrainingData/subject_004_02', '/content/drive/MyDrive/NN_Project/TrainingData/subject_005_01', '/content/drive/MyDrive/NN_Project/TrainingData/subject_005_02', '/content/drive/MyDrive/NN_Project/TrainingData/subject_005_03', '/content/drive/MyDrive/NN_Project/TrainingData/subject_006_01', '/content/drive/MyDrive/NN_Project/TrainingData/subject_006_02', '/content/drive/MyDrive/NN_Project/TrainingData/subject_006_03', '/content/drive/MyDrive/NN_Project/TrainingData/subject_007_01', '/content/drive/MyDrive/NN_Project/TrainingData/subject_007_02', '/content/drive/MyDrive/NN_Project/TrainingData/subject_007_03', '/content/drive/MyDrive/NN_Project/TrainingData/subject_007_04', '/content/drive/MyDrive/NN_Project/TrainingData/subject_008_01']\n",
            "['/content/drive/MyDrive/NN_Project/TrainingData/subject_001_01', '/content/drive/MyDrive/NN_Project/TrainingData/subject_001_02', '/content/drive/MyDrive/NN_Project/TrainingData/subject_001_03', '/content/drive/MyDrive/NN_Project/TrainingData/subject_001_04', '/content/drive/MyDrive/NN_Project/TrainingData/subject_001_05', '/content/drive/MyDrive/NN_Project/TrainingData/subject_001_06', '/content/drive/MyDrive/NN_Project/TrainingData/subject_001_07', '/content/drive/MyDrive/NN_Project/TrainingData/subject_001_08', '/content/drive/MyDrive/NN_Project/TrainingData/subject_002_01', '/content/drive/MyDrive/NN_Project/TrainingData/subject_002_02', '/content/drive/MyDrive/NN_Project/TrainingData/subject_002_03', '/content/drive/MyDrive/NN_Project/TrainingData/subject_002_04', '/content/drive/MyDrive/NN_Project/TrainingData/subject_002_05', '/content/drive/MyDrive/NN_Project/TrainingData/subject_003_01', '/content/drive/MyDrive/NN_Project/TrainingData/subject_003_02', '/content/drive/MyDrive/NN_Project/TrainingData/subject_003_03', '/content/drive/MyDrive/NN_Project/TrainingData/subject_004_01', '/content/drive/MyDrive/NN_Project/TrainingData/subject_004_02', '/content/drive/MyDrive/NN_Project/TrainingData/subject_005_01', '/content/drive/MyDrive/NN_Project/TrainingData/subject_005_02', '/content/drive/MyDrive/NN_Project/TrainingData/subject_005_03', '/content/drive/MyDrive/NN_Project/TrainingData/subject_006_01', '/content/drive/MyDrive/NN_Project/TrainingData/subject_006_02', '/content/drive/MyDrive/NN_Project/TrainingData/subject_006_03', '/content/drive/MyDrive/NN_Project/TrainingData/subject_007_01', '/content/drive/MyDrive/NN_Project/TrainingData/subject_007_02', '/content/drive/MyDrive/NN_Project/TrainingData/subject_007_03', '/content/drive/MyDrive/NN_Project/TrainingData/subject_007_04', '/content/drive/MyDrive/NN_Project/TrainingData/subject_008_01']\n",
            "['/content/drive/MyDrive/NN_Project/TrainingData/subject_001_01', '/content/drive/MyDrive/NN_Project/TrainingData/subject_001_02', '/content/drive/MyDrive/NN_Project/TrainingData/subject_001_03', '/content/drive/MyDrive/NN_Project/TrainingData/subject_001_04', '/content/drive/MyDrive/NN_Project/TrainingData/subject_001_05', '/content/drive/MyDrive/NN_Project/TrainingData/subject_001_06', '/content/drive/MyDrive/NN_Project/TrainingData/subject_001_07', '/content/drive/MyDrive/NN_Project/TrainingData/subject_001_08', '/content/drive/MyDrive/NN_Project/TrainingData/subject_002_01', '/content/drive/MyDrive/NN_Project/TrainingData/subject_002_02', '/content/drive/MyDrive/NN_Project/TrainingData/subject_002_03', '/content/drive/MyDrive/NN_Project/TrainingData/subject_002_04', '/content/drive/MyDrive/NN_Project/TrainingData/subject_002_05', '/content/drive/MyDrive/NN_Project/TrainingData/subject_003_01', '/content/drive/MyDrive/NN_Project/TrainingData/subject_003_02', '/content/drive/MyDrive/NN_Project/TrainingData/subject_003_03', '/content/drive/MyDrive/NN_Project/TrainingData/subject_004_01', '/content/drive/MyDrive/NN_Project/TrainingData/subject_004_02', '/content/drive/MyDrive/NN_Project/TrainingData/subject_005_01', '/content/drive/MyDrive/NN_Project/TrainingData/subject_005_02', '/content/drive/MyDrive/NN_Project/TrainingData/subject_005_03', '/content/drive/MyDrive/NN_Project/TrainingData/subject_006_01', '/content/drive/MyDrive/NN_Project/TrainingData/subject_006_02', '/content/drive/MyDrive/NN_Project/TrainingData/subject_006_03', '/content/drive/MyDrive/NN_Project/TrainingData/subject_007_01', '/content/drive/MyDrive/NN_Project/TrainingData/subject_007_02', '/content/drive/MyDrive/NN_Project/TrainingData/subject_007_03', '/content/drive/MyDrive/NN_Project/TrainingData/subject_007_04', '/content/drive/MyDrive/NN_Project/TrainingData/subject_008_01']\n",
            "['/content/drive/MyDrive/NN_Project/TrainingData/subject_001_01', '/content/drive/MyDrive/NN_Project/TrainingData/subject_001_02', '/content/drive/MyDrive/NN_Project/TrainingData/subject_001_03', '/content/drive/MyDrive/NN_Project/TrainingData/subject_001_04', '/content/drive/MyDrive/NN_Project/TrainingData/subject_001_05', '/content/drive/MyDrive/NN_Project/TrainingData/subject_001_06', '/content/drive/MyDrive/NN_Project/TrainingData/subject_001_07', '/content/drive/MyDrive/NN_Project/TrainingData/subject_001_08', '/content/drive/MyDrive/NN_Project/TrainingData/subject_002_01', '/content/drive/MyDrive/NN_Project/TrainingData/subject_002_02', '/content/drive/MyDrive/NN_Project/TrainingData/subject_002_03', '/content/drive/MyDrive/NN_Project/TrainingData/subject_002_04', '/content/drive/MyDrive/NN_Project/TrainingData/subject_002_05', '/content/drive/MyDrive/NN_Project/TrainingData/subject_003_01', '/content/drive/MyDrive/NN_Project/TrainingData/subject_003_02', '/content/drive/MyDrive/NN_Project/TrainingData/subject_003_03', '/content/drive/MyDrive/NN_Project/TrainingData/subject_004_01', '/content/drive/MyDrive/NN_Project/TrainingData/subject_004_02', '/content/drive/MyDrive/NN_Project/TrainingData/subject_005_01', '/content/drive/MyDrive/NN_Project/TrainingData/subject_005_02', '/content/drive/MyDrive/NN_Project/TrainingData/subject_005_03', '/content/drive/MyDrive/NN_Project/TrainingData/subject_006_01', '/content/drive/MyDrive/NN_Project/TrainingData/subject_006_02', '/content/drive/MyDrive/NN_Project/TrainingData/subject_006_03', '/content/drive/MyDrive/NN_Project/TrainingData/subject_007_01', '/content/drive/MyDrive/NN_Project/TrainingData/subject_007_02', '/content/drive/MyDrive/NN_Project/TrainingData/subject_007_03', '/content/drive/MyDrive/NN_Project/TrainingData/subject_007_04', '/content/drive/MyDrive/NN_Project/TrainingData/subject_008_01']\n",
            "['/content/drive/MyDrive/NN_Project/TrainingData/subject_001_01', '/content/drive/MyDrive/NN_Project/TrainingData/subject_001_02', '/content/drive/MyDrive/NN_Project/TrainingData/subject_001_03', '/content/drive/MyDrive/NN_Project/TrainingData/subject_001_04', '/content/drive/MyDrive/NN_Project/TrainingData/subject_001_05', '/content/drive/MyDrive/NN_Project/TrainingData/subject_001_06', '/content/drive/MyDrive/NN_Project/TrainingData/subject_001_07', '/content/drive/MyDrive/NN_Project/TrainingData/subject_001_08', '/content/drive/MyDrive/NN_Project/TrainingData/subject_002_01', '/content/drive/MyDrive/NN_Project/TrainingData/subject_002_02', '/content/drive/MyDrive/NN_Project/TrainingData/subject_002_03', '/content/drive/MyDrive/NN_Project/TrainingData/subject_002_04', '/content/drive/MyDrive/NN_Project/TrainingData/subject_002_05', '/content/drive/MyDrive/NN_Project/TrainingData/subject_003_01', '/content/drive/MyDrive/NN_Project/TrainingData/subject_003_02', '/content/drive/MyDrive/NN_Project/TrainingData/subject_003_03', '/content/drive/MyDrive/NN_Project/TrainingData/subject_004_01', '/content/drive/MyDrive/NN_Project/TrainingData/subject_004_02', '/content/drive/MyDrive/NN_Project/TrainingData/subject_005_01', '/content/drive/MyDrive/NN_Project/TrainingData/subject_005_02', '/content/drive/MyDrive/NN_Project/TrainingData/subject_005_03', '/content/drive/MyDrive/NN_Project/TrainingData/subject_006_01', '/content/drive/MyDrive/NN_Project/TrainingData/subject_006_02', '/content/drive/MyDrive/NN_Project/TrainingData/subject_006_03', '/content/drive/MyDrive/NN_Project/TrainingData/subject_007_01', '/content/drive/MyDrive/NN_Project/TrainingData/subject_007_02', '/content/drive/MyDrive/NN_Project/TrainingData/subject_007_03', '/content/drive/MyDrive/NN_Project/TrainingData/subject_007_04', '/content/drive/MyDrive/NN_Project/TrainingData/subject_008_01']\n",
            "['/content/drive/MyDrive/NN_Project/TrainingData/subject_001_01', '/content/drive/MyDrive/NN_Project/TrainingData/subject_001_02', '/content/drive/MyDrive/NN_Project/TrainingData/subject_001_03', '/content/drive/MyDrive/NN_Project/TrainingData/subject_001_04', '/content/drive/MyDrive/NN_Project/TrainingData/subject_001_05', '/content/drive/MyDrive/NN_Project/TrainingData/subject_001_06', '/content/drive/MyDrive/NN_Project/TrainingData/subject_001_07', '/content/drive/MyDrive/NN_Project/TrainingData/subject_001_08', '/content/drive/MyDrive/NN_Project/TrainingData/subject_002_01', '/content/drive/MyDrive/NN_Project/TrainingData/subject_002_02', '/content/drive/MyDrive/NN_Project/TrainingData/subject_002_03', '/content/drive/MyDrive/NN_Project/TrainingData/subject_002_04', '/content/drive/MyDrive/NN_Project/TrainingData/subject_002_05', '/content/drive/MyDrive/NN_Project/TrainingData/subject_003_01', '/content/drive/MyDrive/NN_Project/TrainingData/subject_003_02', '/content/drive/MyDrive/NN_Project/TrainingData/subject_003_03', '/content/drive/MyDrive/NN_Project/TrainingData/subject_004_01', '/content/drive/MyDrive/NN_Project/TrainingData/subject_004_02', '/content/drive/MyDrive/NN_Project/TrainingData/subject_005_01', '/content/drive/MyDrive/NN_Project/TrainingData/subject_005_02', '/content/drive/MyDrive/NN_Project/TrainingData/subject_005_03', '/content/drive/MyDrive/NN_Project/TrainingData/subject_006_01', '/content/drive/MyDrive/NN_Project/TrainingData/subject_006_02', '/content/drive/MyDrive/NN_Project/TrainingData/subject_006_03', '/content/drive/MyDrive/NN_Project/TrainingData/subject_007_01', '/content/drive/MyDrive/NN_Project/TrainingData/subject_007_02', '/content/drive/MyDrive/NN_Project/TrainingData/subject_007_03', '/content/drive/MyDrive/NN_Project/TrainingData/subject_007_04', '/content/drive/MyDrive/NN_Project/TrainingData/subject_008_01']\n",
            "['/content/drive/MyDrive/NN_Project/TrainingData/subject_001_01', '/content/drive/MyDrive/NN_Project/TrainingData/subject_001_02', '/content/drive/MyDrive/NN_Project/TrainingData/subject_001_03', '/content/drive/MyDrive/NN_Project/TrainingData/subject_001_04', '/content/drive/MyDrive/NN_Project/TrainingData/subject_001_05', '/content/drive/MyDrive/NN_Project/TrainingData/subject_001_06', '/content/drive/MyDrive/NN_Project/TrainingData/subject_001_07', '/content/drive/MyDrive/NN_Project/TrainingData/subject_001_08', '/content/drive/MyDrive/NN_Project/TrainingData/subject_002_01', '/content/drive/MyDrive/NN_Project/TrainingData/subject_002_02', '/content/drive/MyDrive/NN_Project/TrainingData/subject_002_03', '/content/drive/MyDrive/NN_Project/TrainingData/subject_002_04', '/content/drive/MyDrive/NN_Project/TrainingData/subject_002_05', '/content/drive/MyDrive/NN_Project/TrainingData/subject_003_01', '/content/drive/MyDrive/NN_Project/TrainingData/subject_003_02', '/content/drive/MyDrive/NN_Project/TrainingData/subject_003_03', '/content/drive/MyDrive/NN_Project/TrainingData/subject_004_01', '/content/drive/MyDrive/NN_Project/TrainingData/subject_004_02', '/content/drive/MyDrive/NN_Project/TrainingData/subject_005_01', '/content/drive/MyDrive/NN_Project/TrainingData/subject_005_02', '/content/drive/MyDrive/NN_Project/TrainingData/subject_005_03', '/content/drive/MyDrive/NN_Project/TrainingData/subject_006_01', '/content/drive/MyDrive/NN_Project/TrainingData/subject_006_02', '/content/drive/MyDrive/NN_Project/TrainingData/subject_006_03', '/content/drive/MyDrive/NN_Project/TrainingData/subject_007_01', '/content/drive/MyDrive/NN_Project/TrainingData/subject_007_02', '/content/drive/MyDrive/NN_Project/TrainingData/subject_007_03', '/content/drive/MyDrive/NN_Project/TrainingData/subject_007_04', '/content/drive/MyDrive/NN_Project/TrainingData/subject_008_01']\n",
            "['/content/drive/MyDrive/NN_Project/TrainingData/subject_001_01', '/content/drive/MyDrive/NN_Project/TrainingData/subject_001_02', '/content/drive/MyDrive/NN_Project/TrainingData/subject_001_03', '/content/drive/MyDrive/NN_Project/TrainingData/subject_001_04', '/content/drive/MyDrive/NN_Project/TrainingData/subject_001_05', '/content/drive/MyDrive/NN_Project/TrainingData/subject_001_06', '/content/drive/MyDrive/NN_Project/TrainingData/subject_001_07', '/content/drive/MyDrive/NN_Project/TrainingData/subject_001_08', '/content/drive/MyDrive/NN_Project/TrainingData/subject_002_01', '/content/drive/MyDrive/NN_Project/TrainingData/subject_002_02', '/content/drive/MyDrive/NN_Project/TrainingData/subject_002_03', '/content/drive/MyDrive/NN_Project/TrainingData/subject_002_04', '/content/drive/MyDrive/NN_Project/TrainingData/subject_002_05', '/content/drive/MyDrive/NN_Project/TrainingData/subject_003_01', '/content/drive/MyDrive/NN_Project/TrainingData/subject_003_02', '/content/drive/MyDrive/NN_Project/TrainingData/subject_003_03', '/content/drive/MyDrive/NN_Project/TrainingData/subject_004_01', '/content/drive/MyDrive/NN_Project/TrainingData/subject_004_02', '/content/drive/MyDrive/NN_Project/TrainingData/subject_005_01', '/content/drive/MyDrive/NN_Project/TrainingData/subject_005_02', '/content/drive/MyDrive/NN_Project/TrainingData/subject_005_03', '/content/drive/MyDrive/NN_Project/TrainingData/subject_006_01', '/content/drive/MyDrive/NN_Project/TrainingData/subject_006_02', '/content/drive/MyDrive/NN_Project/TrainingData/subject_006_03', '/content/drive/MyDrive/NN_Project/TrainingData/subject_007_01', '/content/drive/MyDrive/NN_Project/TrainingData/subject_007_02', '/content/drive/MyDrive/NN_Project/TrainingData/subject_007_03', '/content/drive/MyDrive/NN_Project/TrainingData/subject_007_04', '/content/drive/MyDrive/NN_Project/TrainingData/subject_008_01']\n",
            "['/content/drive/MyDrive/NN_Project/TrainingData/subject_001_01', '/content/drive/MyDrive/NN_Project/TrainingData/subject_001_02', '/content/drive/MyDrive/NN_Project/TrainingData/subject_001_03', '/content/drive/MyDrive/NN_Project/TrainingData/subject_001_04', '/content/drive/MyDrive/NN_Project/TrainingData/subject_001_05', '/content/drive/MyDrive/NN_Project/TrainingData/subject_001_06', '/content/drive/MyDrive/NN_Project/TrainingData/subject_001_07', '/content/drive/MyDrive/NN_Project/TrainingData/subject_001_08', '/content/drive/MyDrive/NN_Project/TrainingData/subject_002_01', '/content/drive/MyDrive/NN_Project/TrainingData/subject_002_02', '/content/drive/MyDrive/NN_Project/TrainingData/subject_002_03', '/content/drive/MyDrive/NN_Project/TrainingData/subject_002_04', '/content/drive/MyDrive/NN_Project/TrainingData/subject_002_05', '/content/drive/MyDrive/NN_Project/TrainingData/subject_003_01', '/content/drive/MyDrive/NN_Project/TrainingData/subject_003_02', '/content/drive/MyDrive/NN_Project/TrainingData/subject_003_03', '/content/drive/MyDrive/NN_Project/TrainingData/subject_004_01', '/content/drive/MyDrive/NN_Project/TrainingData/subject_004_02', '/content/drive/MyDrive/NN_Project/TrainingData/subject_005_01', '/content/drive/MyDrive/NN_Project/TrainingData/subject_005_02', '/content/drive/MyDrive/NN_Project/TrainingData/subject_005_03', '/content/drive/MyDrive/NN_Project/TrainingData/subject_006_01', '/content/drive/MyDrive/NN_Project/TrainingData/subject_006_02', '/content/drive/MyDrive/NN_Project/TrainingData/subject_006_03', '/content/drive/MyDrive/NN_Project/TrainingData/subject_007_01', '/content/drive/MyDrive/NN_Project/TrainingData/subject_007_02', '/content/drive/MyDrive/NN_Project/TrainingData/subject_007_03', '/content/drive/MyDrive/NN_Project/TrainingData/subject_007_04', '/content/drive/MyDrive/NN_Project/TrainingData/subject_008_01']\n",
            "            acc_x     acc_y      acc_z        gyro_x        gyro_y  \\\n",
            "0           acc_x     acc_y      acc_z        gyro_x        gyro_y   \n",
            "1         4.18692  8.344455   2.908057   0.005770759  -0.004479538   \n",
            "2        4.544637  8.408659       2.89   0.007967429    0.02241187   \n",
            "3        4.849308  8.411614   2.900692    0.02777778   -0.01067026   \n",
            "4         4.50919  8.118649   2.847298    0.02157696   -0.04549827   \n",
            "...           ...       ...        ...           ...           ...   \n",
            "1341641  2.072244  8.908878       -3.5   0.001350761   0.001190994   \n",
            "1341642  2.085123  8.915123      -3.52   0.001917847  -0.001146575   \n",
            "1341643  2.083774      8.91  -3.538981  -0.002015218  -0.004099438   \n",
            "1341644  2.111447  8.908553  -3.535724  0.0001831479  -0.001672778   \n",
            "1341645   2.08773       8.9  -3.518865  5.186139e-05  -0.001266695   \n",
            "\n",
            "               gyro_z     time  label  \n",
            "0              gyro_z     time  label  \n",
            "1        -0.003345031     0.02    0.0  \n",
            "2         0.001158524     0.05    0.0  \n",
            "3         -0.01422302     0.07    0.0  \n",
            "4         -0.02111111      0.1    0.0  \n",
            "...               ...      ...    ...  \n",
            "1341641   0.001031228  1203.32    0.0  \n",
            "1341642           0.0  1203.34    0.0  \n",
            "1341643    0.00104211  1203.37    0.0  \n",
            "1341644   0.001855926   1203.4    0.0  \n",
            "1341645           0.0  1203.42    0.0  \n",
            "\n",
            "[1341646 rows x 8 columns]\n"
          ]
        }
      ]
    },
    {
      "cell_type": "code",
      "source": [
        "df=pd.read_csv('/content/drive/MyDrive/NN_Project/Interpolated_combined.csv')\n",
        "# Count the number of rows where the 'label' column is equal to 0 (standing/walking), 1 (walking downstairs), 2 (walking upstairs), and 3 (walking on grass)\n",
        "standing_walking = df[df.label==0].count()[0]\n",
        "walking_downstairs = df[df.label==1].count()[0]\n",
        "walking_upstairs = df[df.label==2].count()[0]\n",
        "walking_grass = df[df.label==3].count()[0]\n",
        "# Print the counts of each label category\n",
        "print(standing_walking, walking_downstairs,walking_upstairs, walking_grass)"
      ],
      "metadata": {
        "colab": {
          "base_uri": "https://localhost:8080/"
        },
        "id": "NIWoFQHrQGCb",
        "outputId": "1a329993-c7d3-4f84-8e6d-ae215dab9074"
      },
      "execution_count": null,
      "outputs": [
        {
          "output_type": "stream",
          "name": "stdout",
          "text": [
            "1006897 55216 73068 206436\n"
          ]
        }
      ]
    },
    {
      "cell_type": "code",
      "source": [
        "y_train = df.label\n",
        "x_train= df.drop('label', axis=1)\n",
        "x_train= x_train.drop('time', axis=1)"
      ],
      "metadata": {
        "id": "sOTHlo-4QPhE"
      },
      "execution_count": null,
      "outputs": []
    },
    {
      "cell_type": "code",
      "source": [
        "print(y_train)"
      ],
      "metadata": {
        "colab": {
          "base_uri": "https://localhost:8080/"
        },
        "id": "604fuyJxQaBZ",
        "outputId": "003f796b-7bd5-4f39-df40-985939b80843"
      },
      "execution_count": null,
      "outputs": [
        {
          "output_type": "stream",
          "name": "stdout",
          "text": [
            "0          0.0\n",
            "1          0.0\n",
            "2          0.0\n",
            "3          0.0\n",
            "4          0.0\n",
            "          ... \n",
            "1341612    0.0\n",
            "1341613    0.0\n",
            "1341614    0.0\n",
            "1341615    0.0\n",
            "1341616    0.0\n",
            "Name: label, Length: 1341617, dtype: float64\n"
          ]
        }
      ]
    },
    {
      "cell_type": "code",
      "source": [
        "# Convert y_train to categorical format and reshape to a 2D array\n",
        "y_train_categorical = to_categorical(y_train,4).reshape(-1,4)\n",
        "df_y = pd.DataFrame(y_train_categorical, columns = ['l1','l2','l3','l4'])\n",
        "df_y"
      ],
      "metadata": {
        "colab": {
          "base_uri": "https://localhost:8080/",
          "height": 423
        },
        "id": "weM_LjpLQfxb",
        "outputId": "0b9c3d90-d678-41c9-8336-d32a9cce3e82"
      },
      "execution_count": null,
      "outputs": [
        {
          "output_type": "execute_result",
          "data": {
            "text/plain": [
              "          l1   l2   l3   l4\n",
              "0        1.0  0.0  0.0  0.0\n",
              "1        1.0  0.0  0.0  0.0\n",
              "2        1.0  0.0  0.0  0.0\n",
              "3        1.0  0.0  0.0  0.0\n",
              "4        1.0  0.0  0.0  0.0\n",
              "...      ...  ...  ...  ...\n",
              "1341612  1.0  0.0  0.0  0.0\n",
              "1341613  1.0  0.0  0.0  0.0\n",
              "1341614  1.0  0.0  0.0  0.0\n",
              "1341615  1.0  0.0  0.0  0.0\n",
              "1341616  1.0  0.0  0.0  0.0\n",
              "\n",
              "[1341617 rows x 4 columns]"
            ],
            "text/html": [
              "\n",
              "  <div id=\"df-8144a5fd-2398-412a-ba0e-9a6daa1d3c79\">\n",
              "    <div class=\"colab-df-container\">\n",
              "      <div>\n",
              "<style scoped>\n",
              "    .dataframe tbody tr th:only-of-type {\n",
              "        vertical-align: middle;\n",
              "    }\n",
              "\n",
              "    .dataframe tbody tr th {\n",
              "        vertical-align: top;\n",
              "    }\n",
              "\n",
              "    .dataframe thead th {\n",
              "        text-align: right;\n",
              "    }\n",
              "</style>\n",
              "<table border=\"1\" class=\"dataframe\">\n",
              "  <thead>\n",
              "    <tr style=\"text-align: right;\">\n",
              "      <th></th>\n",
              "      <th>l1</th>\n",
              "      <th>l2</th>\n",
              "      <th>l3</th>\n",
              "      <th>l4</th>\n",
              "    </tr>\n",
              "  </thead>\n",
              "  <tbody>\n",
              "    <tr>\n",
              "      <th>0</th>\n",
              "      <td>1.0</td>\n",
              "      <td>0.0</td>\n",
              "      <td>0.0</td>\n",
              "      <td>0.0</td>\n",
              "    </tr>\n",
              "    <tr>\n",
              "      <th>1</th>\n",
              "      <td>1.0</td>\n",
              "      <td>0.0</td>\n",
              "      <td>0.0</td>\n",
              "      <td>0.0</td>\n",
              "    </tr>\n",
              "    <tr>\n",
              "      <th>2</th>\n",
              "      <td>1.0</td>\n",
              "      <td>0.0</td>\n",
              "      <td>0.0</td>\n",
              "      <td>0.0</td>\n",
              "    </tr>\n",
              "    <tr>\n",
              "      <th>3</th>\n",
              "      <td>1.0</td>\n",
              "      <td>0.0</td>\n",
              "      <td>0.0</td>\n",
              "      <td>0.0</td>\n",
              "    </tr>\n",
              "    <tr>\n",
              "      <th>4</th>\n",
              "      <td>1.0</td>\n",
              "      <td>0.0</td>\n",
              "      <td>0.0</td>\n",
              "      <td>0.0</td>\n",
              "    </tr>\n",
              "    <tr>\n",
              "      <th>...</th>\n",
              "      <td>...</td>\n",
              "      <td>...</td>\n",
              "      <td>...</td>\n",
              "      <td>...</td>\n",
              "    </tr>\n",
              "    <tr>\n",
              "      <th>1341612</th>\n",
              "      <td>1.0</td>\n",
              "      <td>0.0</td>\n",
              "      <td>0.0</td>\n",
              "      <td>0.0</td>\n",
              "    </tr>\n",
              "    <tr>\n",
              "      <th>1341613</th>\n",
              "      <td>1.0</td>\n",
              "      <td>0.0</td>\n",
              "      <td>0.0</td>\n",
              "      <td>0.0</td>\n",
              "    </tr>\n",
              "    <tr>\n",
              "      <th>1341614</th>\n",
              "      <td>1.0</td>\n",
              "      <td>0.0</td>\n",
              "      <td>0.0</td>\n",
              "      <td>0.0</td>\n",
              "    </tr>\n",
              "    <tr>\n",
              "      <th>1341615</th>\n",
              "      <td>1.0</td>\n",
              "      <td>0.0</td>\n",
              "      <td>0.0</td>\n",
              "      <td>0.0</td>\n",
              "    </tr>\n",
              "    <tr>\n",
              "      <th>1341616</th>\n",
              "      <td>1.0</td>\n",
              "      <td>0.0</td>\n",
              "      <td>0.0</td>\n",
              "      <td>0.0</td>\n",
              "    </tr>\n",
              "  </tbody>\n",
              "</table>\n",
              "<p>1341617 rows × 4 columns</p>\n",
              "</div>\n",
              "      <button class=\"colab-df-convert\" onclick=\"convertToInteractive('df-8144a5fd-2398-412a-ba0e-9a6daa1d3c79')\"\n",
              "              title=\"Convert this dataframe to an interactive table.\"\n",
              "              style=\"display:none;\">\n",
              "        \n",
              "  <svg xmlns=\"http://www.w3.org/2000/svg\" height=\"24px\"viewBox=\"0 0 24 24\"\n",
              "       width=\"24px\">\n",
              "    <path d=\"M0 0h24v24H0V0z\" fill=\"none\"/>\n",
              "    <path d=\"M18.56 5.44l.94 2.06.94-2.06 2.06-.94-2.06-.94-.94-2.06-.94 2.06-2.06.94zm-11 1L8.5 8.5l.94-2.06 2.06-.94-2.06-.94L8.5 2.5l-.94 2.06-2.06.94zm10 10l.94 2.06.94-2.06 2.06-.94-2.06-.94-.94-2.06-.94 2.06-2.06.94z\"/><path d=\"M17.41 7.96l-1.37-1.37c-.4-.4-.92-.59-1.43-.59-.52 0-1.04.2-1.43.59L10.3 9.45l-7.72 7.72c-.78.78-.78 2.05 0 2.83L4 21.41c.39.39.9.59 1.41.59.51 0 1.02-.2 1.41-.59l7.78-7.78 2.81-2.81c.8-.78.8-2.07 0-2.86zM5.41 20L4 18.59l7.72-7.72 1.47 1.35L5.41 20z\"/>\n",
              "  </svg>\n",
              "      </button>\n",
              "      \n",
              "  <style>\n",
              "    .colab-df-container {\n",
              "      display:flex;\n",
              "      flex-wrap:wrap;\n",
              "      gap: 12px;\n",
              "    }\n",
              "\n",
              "    .colab-df-convert {\n",
              "      background-color: #E8F0FE;\n",
              "      border: none;\n",
              "      border-radius: 50%;\n",
              "      cursor: pointer;\n",
              "      display: none;\n",
              "      fill: #1967D2;\n",
              "      height: 32px;\n",
              "      padding: 0 0 0 0;\n",
              "      width: 32px;\n",
              "    }\n",
              "\n",
              "    .colab-df-convert:hover {\n",
              "      background-color: #E2EBFA;\n",
              "      box-shadow: 0px 1px 2px rgba(60, 64, 67, 0.3), 0px 1px 3px 1px rgba(60, 64, 67, 0.15);\n",
              "      fill: #174EA6;\n",
              "    }\n",
              "\n",
              "    [theme=dark] .colab-df-convert {\n",
              "      background-color: #3B4455;\n",
              "      fill: #D2E3FC;\n",
              "    }\n",
              "\n",
              "    [theme=dark] .colab-df-convert:hover {\n",
              "      background-color: #434B5C;\n",
              "      box-shadow: 0px 1px 3px 1px rgba(0, 0, 0, 0.15);\n",
              "      filter: drop-shadow(0px 1px 2px rgba(0, 0, 0, 0.3));\n",
              "      fill: #FFFFFF;\n",
              "    }\n",
              "  </style>\n",
              "\n",
              "      <script>\n",
              "        const buttonEl =\n",
              "          document.querySelector('#df-8144a5fd-2398-412a-ba0e-9a6daa1d3c79 button.colab-df-convert');\n",
              "        buttonEl.style.display =\n",
              "          google.colab.kernel.accessAllowed ? 'block' : 'none';\n",
              "\n",
              "        async function convertToInteractive(key) {\n",
              "          const element = document.querySelector('#df-8144a5fd-2398-412a-ba0e-9a6daa1d3c79');\n",
              "          const dataTable =\n",
              "            await google.colab.kernel.invokeFunction('convertToInteractive',\n",
              "                                                     [key], {});\n",
              "          if (!dataTable) return;\n",
              "\n",
              "          const docLinkHtml = 'Like what you see? Visit the ' +\n",
              "            '<a target=\"_blank\" href=https://colab.research.google.com/notebooks/data_table.ipynb>data table notebook</a>'\n",
              "            + ' to learn more about interactive tables.';\n",
              "          element.innerHTML = '';\n",
              "          dataTable['output_type'] = 'display_data';\n",
              "          await google.colab.output.renderOutput(dataTable, element);\n",
              "          const docLink = document.createElement('div');\n",
              "          docLink.innerHTML = docLinkHtml;\n",
              "          element.appendChild(docLink);\n",
              "        }\n",
              "      </script>\n",
              "    </div>\n",
              "  </div>\n",
              "  "
            ]
          },
          "metadata": {},
          "execution_count": 18
        }
      ]
    },
    {
      "cell_type": "code",
      "source": [
        "print(x_train)"
      ],
      "metadata": {
        "colab": {
          "base_uri": "https://localhost:8080/"
        },
        "id": "zYYCAWjJQsdK",
        "outputId": "24c3622f-2ee2-4b87-8c17-59abf51a8a87"
      },
      "execution_count": null,
      "outputs": [
        {
          "output_type": "stream",
          "name": "stdout",
          "text": [
            "            acc_x     acc_y     acc_z    gyro_x    gyro_y    gyro_z\n",
            "0        4.186920  8.344455  2.908057  0.005771 -0.004480 -0.003345\n",
            "1        4.544637  8.408659  2.890000  0.007967  0.022412  0.001159\n",
            "2        4.849308  8.411614  2.900692  0.027778 -0.010670 -0.014223\n",
            "3        4.509190  8.118649  2.847298  0.021577 -0.045498 -0.021111\n",
            "4        4.226515  8.273807  2.851742  0.012534  0.000445 -0.016830\n",
            "...           ...       ...       ...       ...       ...       ...\n",
            "1341612  2.072244  8.908878 -3.500000  0.001351  0.001191  0.001031\n",
            "1341613  2.085123  8.915123 -3.520000  0.001918 -0.001147  0.000000\n",
            "1341614  2.083774  8.910000 -3.538981 -0.002015 -0.004099  0.001042\n",
            "1341615  2.111447  8.908553 -3.535724  0.000183 -0.001673  0.001856\n",
            "1341616  2.087730  8.900000 -3.518865  0.000052 -0.001267  0.000000\n",
            "\n",
            "[1341617 rows x 6 columns]\n"
          ]
        }
      ]
    },
    {
      "cell_type": "code",
      "source": [
        "from sklearn.preprocessing import StandardScaler\n",
        "scaler = StandardScaler()\n",
        "df_x_scaled = scaler.fit_transform(x_train)"
      ],
      "metadata": {
        "id": "RrSdpGuVRTcR"
      },
      "execution_count": null,
      "outputs": []
    },
    {
      "cell_type": "code",
      "source": [
        "df_x_scale = pd.DataFrame(df_x_scaled, columns = ['ax','ay','az','gx','gy','gz'])\n",
        "print(df_x_scale)"
      ],
      "metadata": {
        "colab": {
          "base_uri": "https://localhost:8080/"
        },
        "id": "LU_8YFHZRqWM",
        "outputId": "87b4362a-c1d8-4993-c4aa-6c2dbd2bff22"
      },
      "execution_count": null,
      "outputs": [
        {
          "output_type": "stream",
          "name": "stdout",
          "text": [
            "               ax        ay        az        gx        gy        gz\n",
            "0        0.620543  0.045290 -0.567099  0.000351 -0.018272  0.083457\n",
            "1        0.682938  0.054657 -0.570337  0.001033 -0.001082  0.089309\n",
            "2        0.736081  0.055088 -0.568419  0.007191 -0.022229  0.069323\n",
            "3        0.676755  0.012346 -0.577995  0.005263 -0.044493  0.060374\n",
            "4        0.627449  0.034983 -0.577198  0.002453 -0.015124  0.065937\n",
            "...           ...       ...       ...       ...       ...       ...\n",
            "1341612  0.251684  0.127635 -1.716335 -0.001023 -0.014647  0.089143\n",
            "1341613  0.253931  0.128546 -1.719921 -0.000847 -0.016142  0.087803\n",
            "1341614  0.253695  0.127799 -1.723325 -0.002069 -0.018029  0.089157\n",
            "1341615  0.258522  0.127588 -1.722741 -0.001386 -0.016478  0.090215\n",
            "1341616  0.254385  0.126340 -1.719718 -0.001427 -0.016218  0.087803\n",
            "\n",
            "[1341617 rows x 6 columns]\n"
          ]
        }
      ]
    },
    {
      "cell_type": "code",
      "source": [
        "def define_windows(df_x, df_y, windowsize=120):\n",
        "  window_x=[]\n",
        "  window_y=[]\n",
        "  for i in range(0, len(df_x)-windowsize, windowsize+1):\n",
        "    window_x.append([df_x.values[i:i+windowsize]])\n",
        "    window_y.append([df_y.values[i:i+windowsize]])\n",
        "  print(len(window_x),np.array(window_x).shape,np.array(window_y).shape)\n",
        "  window_x=np.array(window_x).reshape(-1,windowsize,6)\n",
        "  window_y=np.array(window_y).reshape(-1,windowsize,4)\n",
        "  return window_x, window_y"
      ],
      "metadata": {
        "id": "2jgwa0txSI1U"
      },
      "execution_count": null,
      "outputs": []
    },
    {
      "cell_type": "code",
      "source": [
        "wsize = 40\n",
        "x_window, y_window = define_windows(df_x_scale, df_y, wsize)\n",
        "print(x_window.shape, y_window.shape)"
      ],
      "metadata": {
        "colab": {
          "base_uri": "https://localhost:8080/"
        },
        "id": "vG00v2TXSOtI",
        "outputId": "ce47e1e6-fdfd-463a-a597-20659ee6156f"
      },
      "execution_count": null,
      "outputs": [
        {
          "output_type": "stream",
          "name": "stdout",
          "text": [
            "32722 (32722, 1, 40, 6) (32722, 1, 40, 4)\n",
            "(32722, 40, 6) (32722, 40, 4)\n"
          ]
        }
      ]
    },
    {
      "cell_type": "code",
      "source": [
        "from sklearn.model_selection import train_test_split\n",
        "x_train,x_val,y_train,y_val=train_test_split(x_window, y_window, test_size=0.1,random_state=123)\n",
        "\n",
        "print(len(x_train), len(x_val))\n",
        "print(len(y_train), len(y_val))     "
      ],
      "metadata": {
        "colab": {
          "base_uri": "https://localhost:8080/"
        },
        "id": "aUC3UlI9ST5y",
        "outputId": "5ccb6c24-ff4a-42ac-cfd3-f3c2759a0c77"
      },
      "execution_count": null,
      "outputs": [
        {
          "output_type": "stream",
          "name": "stdout",
          "text": [
            "29449 3273\n",
            "29449 3273\n"
          ]
        }
      ]
    },
    {
      "cell_type": "code",
      "source": [
        "#Initial CNN model that we used for ProjC1 submission \n",
        "# def define_CNN_model(drop_rate, l1_value, l2_value):\n",
        "#     model = Sequential()\n",
        "    \n",
        "#     # Add a bidirectional LSTM layer with 64 units\n",
        "#     model.add(Bidirectional(LSTM(64, return_sequences=True), input_shape=(24,1)))\n",
        "    \n",
        "#     # Add a convolutional layer with 128 filters, kernel size of 2, and ReLU activation\n",
        "#     model.add(Conv1D(128, 2, activation=\"relu\", kernel_regularizer=regularizers.l1_l2(l1=l1_value, l2=l2_value)))\n",
        "    \n",
        "#     # Add a max pooling layer\n",
        "#     model.add(MaxPooling1D())\n",
        "    \n",
        "#     # Flatten the output of the previous layer\n",
        "#     model.add(Flatten())\n",
        "    \n",
        "#     # Add a dropout layer with the given rate\n",
        "#     model.add(Dropout(rate = drop_rate))\n",
        "    \n",
        "#     # Add a fully connected layer with 64 units and ReLU activation\n",
        "#     model.add(Dense(64, activation=\"relu\"))\n",
        "    \n",
        "#     # Add another dropout layer with the given rate\n",
        "#     model.add(Dropout(rate = drop_rate))\n",
        "    \n",
        "#     # Add a output layer with 4 units and softmax activation\n",
        "#     model.add(Dense(4, activation = 'softmax'))\n",
        "    \n",
        "#     # Compile the model with categorical crossentropy loss and Adam optimizer\n",
        "#     model.compile(loss = 'categorical_crossentropy', optimizer = \"adam\", metrics = ['accuracy'])\n",
        "    \n",
        "#     return model\n",
        "\n",
        "# learning_rate = 0.0039\n",
        "# l2_lambda = 0.001\n",
        "# dropout_rate = 0.02\n",
        "\n",
        "# # Define the model with the hyperparameters\n",
        "# best_model = define_CNN_model(dropout_rate, learning_rate, l2_lambda )\n",
        "\n",
        "# # Print the model summary to confirm it was defined correctly\n",
        "# best_model.summary()"
      ],
      "metadata": {
        "id": "iy7Sb_lVvrrJ"
      },
      "execution_count": null,
      "outputs": []
    },
    {
      "cell_type": "code",
      "source": [
        "# Define a function that creates a Bidirectional LSTM model\n",
        "def create_biLSTM():\n",
        "\n",
        "  model = Sequential()\n",
        "\n",
        "  # Add a Bidirectional LSTM layer with 100 units, input shape of (40,6), and return sequences set to True\n",
        "  model.add(Bidirectional(LSTM(100, return_sequences=True, input_shape=(40,6))))\n",
        "\n",
        "  # Add a dropout layer with a rate of 0.2\n",
        "  model.add(Dropout(0.2))\n",
        "\n",
        "  # Add another LSTM layer with 50 units, return sequences set to True, and activation function set to ReLU\n",
        "  model.add(LSTM(50, return_sequences=True, activation=\"relu\"))\n",
        "\n",
        "  # Add another dropout layer with a rate of 0.1\n",
        "  model.add(Dropout(0.1))\n",
        "\n",
        "  # Add a fully connected Dense layer with 25 units and activation function set to ReLU\n",
        "  model.add(Dense(25, activation=\"relu\"))\n",
        "\n",
        "  # Add another fully connected Dense layer with 4 units (one for each activity class) and activation function set to softmax\n",
        "  model.add(Dense(4, activation=\"softmax\"))\n",
        "\n",
        "  # Compile the model with the Adam optimizer (with learning rate of 0.001), categorical crossentropy loss function, and accuracy metric\n",
        "  model.compile(optimizer=Adam(learning_rate=0.001), loss='categorical_crossentropy', metrics = ['accuracy'])\n",
        "\n",
        "  # Return the compiled model\n",
        "  return model\n"
      ],
      "metadata": {
        "id": "FAUCJ1lMSgd9"
      },
      "execution_count": null,
      "outputs": []
    },
    {
      "cell_type": "code",
      "source": [
        "from keras.optimizers import SGD, Adam, RMSprop\n",
        "from keras.layers import Dropout, InputLayer, LSTM\n",
        "from keras.layers import Bidirectional, BatchNormalization\n",
        "\n",
        "bilstm_model =create_biLSTM()\n",
        "# Train the BiLSTM model on the training data for 18 epochs\n",
        "history_bilstm = bilstm_model.fit(x_train, y_train, epochs=18, verbose=1, validation_data=(x_val, y_val))"
      ],
      "metadata": {
        "colab": {
          "base_uri": "https://localhost:8080/"
        },
        "id": "m6j8e2UgSuLR",
        "outputId": "3b5eae6f-459d-47c5-ae2c-7ca324946fa8"
      },
      "execution_count": null,
      "outputs": [
        {
          "output_type": "stream",
          "name": "stderr",
          "text": [
            "WARNING:tensorflow:Layer lstm_1 will not use cuDNN kernels since it doesn't meet the criteria. It will use a generic GPU kernel as fallback when running on GPU.\n"
          ]
        },
        {
          "output_type": "stream",
          "name": "stdout",
          "text": [
            "Epoch 1/18\n",
            "921/921 [==============================] - 118s 118ms/step - loss: 0.4643 - accuracy: 0.8322 - val_loss: 0.3233 - val_accuracy: 0.8863\n",
            "Epoch 2/18\n",
            "921/921 [==============================] - 117s 127ms/step - loss: 0.2979 - accuracy: 0.8956 - val_loss: 0.2630 - val_accuracy: 0.9103\n",
            "Epoch 3/18\n",
            "921/921 [==============================] - 129s 141ms/step - loss: 0.2475 - accuracy: 0.9158 - val_loss: 0.2517 - val_accuracy: 0.9164\n",
            "Epoch 4/18\n",
            "921/921 [==============================] - 106s 115ms/step - loss: 0.2223 - accuracy: 0.9249 - val_loss: 0.2341 - val_accuracy: 0.9194\n",
            "Epoch 5/18\n",
            "921/921 [==============================] - 97s 105ms/step - loss: 0.2018 - accuracy: 0.9315 - val_loss: 0.2021 - val_accuracy: 0.9324\n",
            "Epoch 6/18\n",
            "921/921 [==============================] - 105s 115ms/step - loss: 0.1870 - accuracy: 0.9364 - val_loss: 0.1852 - val_accuracy: 0.9398\n",
            "Epoch 7/18\n",
            "921/921 [==============================] - 88s 96ms/step - loss: 0.1742 - accuracy: 0.9404 - val_loss: 0.1721 - val_accuracy: 0.9438\n",
            "Epoch 8/18\n",
            "921/921 [==============================] - 92s 100ms/step - loss: 0.1626 - accuracy: 0.9455 - val_loss: 0.1832 - val_accuracy: 0.9371\n",
            "Epoch 9/18\n",
            "921/921 [==============================] - 138s 149ms/step - loss: 0.1530 - accuracy: 0.9482 - val_loss: 0.1880 - val_accuracy: 0.9362\n",
            "Epoch 10/18\n",
            "921/921 [==============================] - 104s 113ms/step - loss: 0.1461 - accuracy: 0.9505 - val_loss: 0.1718 - val_accuracy: 0.9429\n",
            "Epoch 11/18\n",
            "921/921 [==============================] - 134s 146ms/step - loss: 0.1361 - accuracy: 0.9548 - val_loss: 0.1652 - val_accuracy: 0.9465\n",
            "Epoch 12/18\n",
            "921/921 [==============================] - 114s 124ms/step - loss: 0.1274 - accuracy: 0.9577 - val_loss: 0.1750 - val_accuracy: 0.9440\n",
            "Epoch 13/18\n",
            "921/921 [==============================] - 128s 139ms/step - loss: 0.1208 - accuracy: 0.9596 - val_loss: 0.1765 - val_accuracy: 0.9471\n",
            "Epoch 14/18\n",
            "921/921 [==============================] - 124s 135ms/step - loss: 0.1151 - accuracy: 0.9621 - val_loss: 0.1823 - val_accuracy: 0.9464\n",
            "Epoch 15/18\n",
            "921/921 [==============================] - 136s 148ms/step - loss: 0.1067 - accuracy: 0.9646 - val_loss: 0.1672 - val_accuracy: 0.9470\n",
            "Epoch 16/18\n",
            "921/921 [==============================] - 141s 153ms/step - loss: 0.1041 - accuracy: 0.9651 - val_loss: 0.1844 - val_accuracy: 0.9477\n",
            "Epoch 17/18\n",
            "921/921 [==============================] - 87s 94ms/step - loss: 0.0992 - accuracy: 0.9667 - val_loss: 0.1638 - val_accuracy: 0.9515\n",
            "Epoch 18/18\n",
            "921/921 [==============================] - 103s 112ms/step - loss: 0.0945 - accuracy: 0.9691 - val_loss: 0.1870 - val_accuracy: 0.9412\n"
          ]
        }
      ]
    },
    {
      "cell_type": "code",
      "source": [
        "# read in the test data for subjects 9, 10, 11, and 12\n",
        "x_09 = pd.read_csv(\"/content/drive/MyDrive/NN_Project/TestData/subject_009_01__x.csv\", names=[\"acc_x\", \"acc_y\",\"acc_z\",\"gyro_x\",\"gyro_y\",\"gyro_z\"])\n",
        "x_10 = pd.read_csv(\"/content/drive/MyDrive/NN_Project/TestData/subject_010_01__x.csv\", names=[\"acc_x\", \"acc_y\",\"acc_z\",\"gyro_x\",\"gyro_y\",\"gyro_z\"])\n",
        "x_11 = pd.read_csv(\"/content/drive/MyDrive/NN_Project/TestData/subject_011_01__x.csv\", names=[\"acc_x\", \"acc_y\",\"acc_z\",\"gyro_x\",\"gyro_y\",\"gyro_z\"])\n",
        "x_12 = pd.read_csv(\"/content/drive/MyDrive/NN_Project/TestData/subject_012_01__x.csv\", names=[\"acc_x\", \"acc_y\",\"acc_z\",\"gyro_x\",\"gyro_y\",\"gyro_z\"])\n",
        "\n",
        "x_09_time = pd.read_csv(\"/content/drive/MyDrive/NN_Project/TestData/subject_009_01__x_time.csv\", names = [\"time\"])\n",
        "x_10_time = pd.read_csv(\"/content/drive/MyDrive/NN_Project/TestData/subject_010_01__x_time.csv\", names = [\"time\"])\n",
        "x_11_time = pd.read_csv(\"/content/drive/MyDrive/NN_Project/TestData/subject_011_01__x_time.csv\", names = [\"time\"])\n",
        "x_12_time = pd.read_csv(\"/content/drive/MyDrive/NN_Project/TestData/subject_012_01__x_time.csv\", names = [\"time\"])\n",
        "\n",
        "# scale the test data for subjects 9, 10, 11, and 12 using the same scaler used for the training data\n",
        "x_test_009_scaled = scaler.transform(x_09)\n",
        "x_test_010_scaled = scaler.transform(x_10)\n",
        "x_test_011_scaled = scaler.transform(x_11)\n",
        "x_test_012_scaled = scaler.transform(x_12)\n",
        "\n",
        "x_test_009 = pd.DataFrame(x_test_009_scaled, columns = ['ax','ay','az','gx','gy','gz'])\n",
        "x_test_010 = pd.DataFrame(x_test_010_scaled, columns = ['ax','ay','az','gx','gy','gz'])\n",
        "x_test_011 = pd.DataFrame(x_test_011_scaled, columns = ['ax','ay','az','gx','gy','gz'])\n",
        "x_test_012 = pd.DataFrame(x_test_012_scaled, columns = ['ax','ay','az','gx','gy','gz'])\n"
      ],
      "metadata": {
        "id": "81VTszGYd-ue"
      },
      "execution_count": null,
      "outputs": []
    },
    {
      "cell_type": "code",
      "source": [
        "def define_test_windows(df_x, windowsize=40):\n",
        "  window_x=[]\n",
        "  for i in range(0, len(df_x)-windowsize, windowsize):\n",
        "    window_x.append([df_x.values[i:i+windowsize]])\n",
        "  window_x=np.array(window_x).reshape(-1,windowsize,6)\n",
        "  return window_x"
      ],
      "metadata": {
        "id": "nYV6zOEsTLNS"
      },
      "execution_count": null,
      "outputs": []
    },
    {
      "cell_type": "code",
      "source": [
        "x_09 = define_test_windows(x_test_009, wsize)\n",
        "x_10 = define_test_windows(x_test_010, wsize)\n",
        "x_11 = define_test_windows(x_test_011, wsize)\n",
        "x_12 = define_test_windows(x_test_012, wsize)"
      ],
      "metadata": {
        "id": "kVVlWB3Si0ix"
      },
      "execution_count": null,
      "outputs": []
    },
    {
      "cell_type": "code",
      "source": [
        "def flatten_prediction(y_pred):\n",
        "  y_flattened=[]\n",
        "  for i in y_pred:\n",
        "    for j in i:\n",
        "      y_flattened.append(np.argmax(j)) \n",
        "  return y_flattened"
      ],
      "metadata": {
        "id": "EDxaUCOmXWJA"
      },
      "execution_count": null,
      "outputs": []
    },
    {
      "cell_type": "code",
      "source": [
        "def predictions(model):\n",
        "  y_pred_009 = model.predict(x_09)\n",
        "  y_pred_010 = model.predict(x_10)\n",
        "  y_pred_011 = model.predict(x_11)\n",
        "  y_pred_012 = model.predict(x_12)\n",
        "\n",
        "  y_009 = y_pred_009.tolist()\n",
        "  y_010 = y_pred_010.tolist()\n",
        "  y_011 = y_pred_011.tolist()\n",
        "  y_012 = y_pred_012.tolist()\n",
        "\n",
        "  y_flattened_009 = flatten_prediction(y_009)\n",
        "  y_flattened_010 = flatten_prediction(y_010)\n",
        "  y_flattened_011 = flatten_prediction(y_011)\n",
        "  y_flattened_012 = flatten_prediction(y_012)\n",
        "\n",
        "  print(y_pred_009.shape, y_pred_010.shape, y_pred_011.shape, y_pred_012.shape)\n",
        "  return y_flattened_009, y_flattened_010, y_flattened_011, y_flattened_012"
      ],
      "metadata": {
        "id": "VeVyKAZri_fJ"
      },
      "execution_count": null,
      "outputs": []
    },
    {
      "cell_type": "code",
      "source": [
        "y_flattened_009, y_flattened_010, y_flattened_011, y_flattened_012 = predictions(bilstm_model)"
      ],
      "metadata": {
        "colab": {
          "base_uri": "https://localhost:8080/"
        },
        "id": "AqXHhLDIjBu_",
        "outputId": "b535a388-ec9e-4c29-9391-9e6d2a1b325b"
      },
      "execution_count": null,
      "outputs": [
        {
          "output_type": "stream",
          "name": "stdout",
          "text": [
            "30/30 [==============================] - 2s 15ms/step\n",
            "39/39 [==============================] - 1s 14ms/step\n",
            "41/41 [==============================] - 1s 18ms/step\n",
            "36/36 [==============================] - 1s 13ms/step\n",
            "(949, 40, 4) (1227, 40, 4) (1294, 40, 4) (1132, 40, 4)\n"
          ]
        }
      ]
    },
    {
      "cell_type": "code",
      "source": [
        "y_flattened_009_df=pd.DataFrame(y_flattened_009, columns=['label'])\n",
        "y_flattened_010_df=pd.DataFrame(y_flattened_010, columns=['label'])\n",
        "y_flattened_011_df=pd.DataFrame(y_flattened_011, columns=['label'])\n",
        "y_flattened_012_df=pd.DataFrame(y_flattened_012, columns=['label'])\n",
        "     "
      ],
      "metadata": {
        "id": "PvyEdYHlTDfp"
      },
      "execution_count": null,
      "outputs": []
    },
    {
      "cell_type": "code",
      "source": [
        "x_measured_09 = pd.read_csv(\"/content/drive/MyDrive/NN_Project/TestData/subject_009_01__x.csv\", names=[\"accr_x\", \"accr_y\",\"accr_z\",\"gyr_x\",\"gyr_y\",\"gyr_z\"])\n",
        "x_09_time = pd.read_csv(\"/content/drive/MyDrive/NN_Project/TestData/subject_009_01__x_time.csv\", names = [\"time\"])\n",
        "x_measured_09['time'] = x_09_time['time']\n",
        "x_measured_09 = x_measured_09.join(y_flattened_009_df, how='left')\n",
        "x_measured_09['label'] = x_measured_09['label'].fillna(0)\n",
        "\n",
        "x_measured_10 = pd.read_csv(\"/content/drive/MyDrive/NN_Project/TestData/subject_010_01__x.csv\", names=[\"accr_x\", \"accr_y\",\"accr_z\",\"gyr_x\",\"gyr_y\",\"gyr_z\"])\n",
        "x_10_time = pd.read_csv(\"/content/drive/MyDrive/NN_Project/TestData/subject_010_01__x_time.csv\", names = [\"time\"])\n",
        "x_measured_10['time'] = x_10_time['time']\n",
        "x_measured_10 = x_measured_10.join(y_flattened_010_df, how='left')\n",
        "x_measured_10['label'] = x_measured_10['label'].fillna(0)\n",
        "\n",
        "\n",
        "x_measured_11 = pd.read_csv(\"/content/drive/MyDrive/NN_Project/TestData/subject_011_01__x.csv\", names=[\"accr_x\", \"accr_y\",\"accr_z\",\"gyr_x\",\"gyr_y\",\"gyr_z\"])\n",
        "x_11_time = pd.read_csv(\"/content/drive/MyDrive/NN_Project/TestData/subject_011_01__x_time.csv\", names = [\"time\"])\n",
        "x_measured_11['time'] = x_11_time['time']\n",
        "x_measured_11 = x_measured_11.join(y_flattened_011_df, how='left')\n",
        "x_measured_11['label'] = x_measured_11['label'].fillna(0)\n",
        "\n",
        "\n",
        "x_measured_12 = pd.read_csv(\"/content/drive/MyDrive/NN_Project/TestData/subject_012_01__x.csv\", names=[\"accr_x\", \"accr_y\",\"accr_z\",\"gyr_x\",\"gyr_y\",\"gyr_z\"])\n",
        "x_12_time = pd.read_csv(\"/content/drive/MyDrive/NN_Project/TestData/subject_012_01__x_time.csv\", names = [\"time\"])\n",
        "x_measured_12['time'] = x_12_time['time']\n",
        "x_measured_12 = x_measured_12.join(y_flattened_012_df, how='left')\n",
        "x_measured_12['label'] = x_measured_12['label'].fillna(0)"
      ],
      "metadata": {
        "id": "kW1J9UhyfI13"
      },
      "execution_count": null,
      "outputs": []
    },
    {
      "cell_type": "code",
      "source": [
        "y_time_009 = pd.read_csv(\"/content/drive/MyDrive/NN_Project/TestData/subject_009_01__y_time.csv\", names = [\"time\"])\n",
        "y_time_010 = pd.read_csv(\"/content/drive/MyDrive/NN_Project/TestData/subject_010_01__y_time.csv\", names = [\"time\"])\n",
        "y_time_011 = pd.read_csv(\"/content/drive/MyDrive/NN_Project/TestData/subject_011_01__y_time.csv\", names = [\"time\"])\n",
        "y_time_012 = pd.read_csv(\"/content/drive/MyDrive/NN_Project/TestData/subject_012_01__y_time.csv\", names = [\"time\"])"
      ],
      "metadata": {
        "id": "eD9C9uqAfZbv"
      },
      "execution_count": null,
      "outputs": []
    },
    {
      "cell_type": "code",
      "source": [
        "x_measured_09['time'] = x_measured_09['time'].apply(lambda x:int(x*100)/100)\n",
        "x_measured_final_09 = pd.merge(x_measured_09, y_time_009, on='time', how='inner')\n",
        "x_measured_final_09['label'].to_csv('subject_009_01__y.csv', index=False, header=False)\n",
        "\n",
        "x_measured_10['time'] = x_measured_10['time'].apply(lambda x:int(x*100)/100)\n",
        "x_measured_final_10 = pd.merge(x_measured_10, y_time_010, on='time', how='inner')\n",
        "x_measured_final_10['label'].to_csv('subject_010_01__y.csv', index=False, header=False)\n",
        "\n",
        "x_measured_11['time'] = x_measured_11['time'].apply(lambda x:int(x*100)/100)\n",
        "x_measured_final_11 = pd.merge(x_measured_11, y_time_011, on='time', how='inner')\n",
        "x_measured_final_11['label'].to_csv('subject_011_01__y.csv', index=False, header=False)\n",
        "\n",
        "x_measured_12['time'] = x_measured_12['time'].apply(lambda x:int(x*100)/100)\n",
        "x_measured_final_12 = pd.merge(x_measured_12, y_time_012, on='time', how='inner')\n",
        "x_measured_final_12['label'].to_csv('subject_012_01__y.csv', index=False, header=False)"
      ],
      "metadata": {
        "id": "Rxy-q6bzfqTz"
      },
      "execution_count": null,
      "outputs": []
    },
    {
      "cell_type": "code",
      "source": [
        "print(x_measured_final_09.shape, x_measured_final_10.shape, x_measured_final_11.shape, x_measured_final_12.shape)"
      ],
      "metadata": {
        "colab": {
          "base_uri": "https://localhost:8080/"
        },
        "id": "ZWssMT16gT9s",
        "outputId": "4b4b45c1-638e-400f-85eb-9770e51935fd"
      },
      "execution_count": null,
      "outputs": [
        {
          "output_type": "stream",
          "name": "stdout",
          "text": [
            "(9498, 8) (12270, 8) (12940, 8) (11330, 8)\n"
          ]
        }
      ]
    }
  ]
}